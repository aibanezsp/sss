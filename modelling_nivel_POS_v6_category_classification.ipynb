{
 "cells": [
  {
   "cell_type": "code",
   "execution_count": 1,
   "metadata": {
    "collapsed": true
   },
   "outputs": [
    {
     "ename": "ImportError",
     "evalue": "/usr/lib64/libxcb-xlib.so.0: undefined symbol: _xcb_lock_io",
     "output_type": "error",
     "traceback": [
      "\u001b[1;31m---------------------------------------------------------------------------\u001b[0m",
      "\u001b[1;31mImportError\u001b[0m                               Traceback (most recent call last)",
      "\u001b[1;32m<ipython-input-1-a1e6222ba10f>\u001b[0m in \u001b[0;36m<module>\u001b[1;34m()\u001b[0m\n\u001b[1;32m----> 1\u001b[1;33m \u001b[1;32mimport\u001b[0m \u001b[0mseaborn\u001b[0m \u001b[1;32mas\u001b[0m \u001b[0msns\u001b[0m\u001b[1;33m\u001b[0m\u001b[0m\n\u001b[0m\u001b[0;32m      2\u001b[0m \u001b[1;32mimport\u001b[0m \u001b[0mmatplotlib\u001b[0m\u001b[1;33m.\u001b[0m\u001b[0mpyplot\u001b[0m \u001b[1;32mas\u001b[0m \u001b[0mplt\u001b[0m\u001b[1;33m\u001b[0m\u001b[0m\n",
      "\u001b[1;32m/data/rstudio/iberia/anaconda2/lib/python2.7/site-packages/seaborn/__init__.py\u001b[0m in \u001b[0;36m<module>\u001b[1;34m()\u001b[0m\n\u001b[0;32m      4\u001b[0m \u001b[1;33m\u001b[0m\u001b[0m\n\u001b[0;32m      5\u001b[0m \u001b[1;31m# Import seaborn objects\u001b[0m\u001b[1;33m\u001b[0m\u001b[1;33m\u001b[0m\u001b[0m\n\u001b[1;32m----> 6\u001b[1;33m \u001b[1;32mfrom\u001b[0m \u001b[1;33m.\u001b[0m\u001b[0mrcmod\u001b[0m \u001b[1;32mimport\u001b[0m \u001b[1;33m*\u001b[0m\u001b[1;33m\u001b[0m\u001b[0m\n\u001b[0m\u001b[0;32m      7\u001b[0m \u001b[1;32mfrom\u001b[0m \u001b[1;33m.\u001b[0m\u001b[0mutils\u001b[0m \u001b[1;32mimport\u001b[0m \u001b[1;33m*\u001b[0m\u001b[1;33m\u001b[0m\u001b[0m\n\u001b[0;32m      8\u001b[0m \u001b[1;32mfrom\u001b[0m \u001b[1;33m.\u001b[0m\u001b[0mpalettes\u001b[0m \u001b[1;32mimport\u001b[0m \u001b[1;33m*\u001b[0m\u001b[1;33m\u001b[0m\u001b[0m\n",
      "\u001b[1;32m/data/rstudio/iberia/anaconda2/lib/python2.7/site-packages/seaborn/rcmod.py\u001b[0m in \u001b[0;36m<module>\u001b[1;34m()\u001b[0m\n\u001b[0;32m      6\u001b[0m \u001b[1;32mimport\u001b[0m \u001b[0mmatplotlib\u001b[0m \u001b[1;32mas\u001b[0m \u001b[0mmpl\u001b[0m\u001b[1;33m\u001b[0m\u001b[0m\n\u001b[0;32m      7\u001b[0m \u001b[1;33m\u001b[0m\u001b[0m\n\u001b[1;32m----> 8\u001b[1;33m \u001b[1;32mfrom\u001b[0m \u001b[1;33m.\u001b[0m \u001b[1;32mimport\u001b[0m \u001b[0mpalettes\u001b[0m\u001b[1;33m,\u001b[0m \u001b[0m_orig_rc_params\u001b[0m\u001b[1;33m\u001b[0m\u001b[0m\n\u001b[0m\u001b[0;32m      9\u001b[0m \u001b[1;33m\u001b[0m\u001b[0m\n\u001b[0;32m     10\u001b[0m \u001b[1;33m\u001b[0m\u001b[0m\n",
      "\u001b[1;32m/data/rstudio/iberia/anaconda2/lib/python2.7/site-packages/seaborn/palettes.py\u001b[0m in \u001b[0;36m<module>\u001b[1;34m()\u001b[0m\n\u001b[0;32m     10\u001b[0m \u001b[1;32mfrom\u001b[0m \u001b[1;33m.\u001b[0m\u001b[0mexternal\u001b[0m\u001b[1;33m.\u001b[0m\u001b[0msix\u001b[0m\u001b[1;33m.\u001b[0m\u001b[0mmoves\u001b[0m \u001b[1;32mimport\u001b[0m \u001b[0mrange\u001b[0m\u001b[1;33m\u001b[0m\u001b[0m\n\u001b[0;32m     11\u001b[0m \u001b[1;33m\u001b[0m\u001b[0m\n\u001b[1;32m---> 12\u001b[1;33m \u001b[1;32mfrom\u001b[0m \u001b[1;33m.\u001b[0m\u001b[0mutils\u001b[0m \u001b[1;32mimport\u001b[0m \u001b[0mdesaturate\u001b[0m\u001b[1;33m,\u001b[0m \u001b[0mset_hls_values\u001b[0m\u001b[1;33m,\u001b[0m \u001b[0mget_color_cycle\u001b[0m\u001b[1;33m\u001b[0m\u001b[0m\n\u001b[0m\u001b[0;32m     13\u001b[0m \u001b[1;32mfrom\u001b[0m \u001b[1;33m.\u001b[0m\u001b[0mxkcd_rgb\u001b[0m \u001b[1;32mimport\u001b[0m \u001b[0mxkcd_rgb\u001b[0m\u001b[1;33m\u001b[0m\u001b[0m\n\u001b[0;32m     14\u001b[0m \u001b[1;32mfrom\u001b[0m \u001b[1;33m.\u001b[0m\u001b[0mcrayons\u001b[0m \u001b[1;32mimport\u001b[0m \u001b[0mcrayons\u001b[0m\u001b[1;33m\u001b[0m\u001b[0m\n",
      "\u001b[1;32m/data/rstudio/iberia/anaconda2/lib/python2.7/site-packages/seaborn/utils.py\u001b[0m in \u001b[0;36m<module>\u001b[1;34m()\u001b[0m\n\u001b[0;32m     10\u001b[0m \u001b[1;32mimport\u001b[0m \u001b[0mmatplotlib\u001b[0m \u001b[1;32mas\u001b[0m \u001b[0mmpl\u001b[0m\u001b[1;33m\u001b[0m\u001b[0m\n\u001b[0;32m     11\u001b[0m \u001b[1;32mimport\u001b[0m \u001b[0mmatplotlib\u001b[0m\u001b[1;33m.\u001b[0m\u001b[0mcolors\u001b[0m \u001b[1;32mas\u001b[0m \u001b[0mmplcol\u001b[0m\u001b[1;33m\u001b[0m\u001b[0m\n\u001b[1;32m---> 12\u001b[1;33m \u001b[1;32mimport\u001b[0m \u001b[0mmatplotlib\u001b[0m\u001b[1;33m.\u001b[0m\u001b[0mpyplot\u001b[0m \u001b[1;32mas\u001b[0m \u001b[0mplt\u001b[0m\u001b[1;33m\u001b[0m\u001b[0m\n\u001b[0m\u001b[0;32m     13\u001b[0m \u001b[1;33m\u001b[0m\u001b[0m\n\u001b[0;32m     14\u001b[0m \u001b[1;32mfrom\u001b[0m \u001b[0mdistutils\u001b[0m\u001b[1;33m.\u001b[0m\u001b[0mversion\u001b[0m \u001b[1;32mimport\u001b[0m \u001b[0mLooseVersion\u001b[0m\u001b[1;33m\u001b[0m\u001b[0m\n",
      "\u001b[1;32m/data/rstudio/iberia/anaconda2/lib/python2.7/site-packages/matplotlib/pyplot.py\u001b[0m in \u001b[0;36m<module>\u001b[1;34m()\u001b[0m\n\u001b[0;32m    112\u001b[0m \u001b[1;33m\u001b[0m\u001b[0m\n\u001b[0;32m    113\u001b[0m \u001b[1;32mfrom\u001b[0m \u001b[0mmatplotlib\u001b[0m\u001b[1;33m.\u001b[0m\u001b[0mbackends\u001b[0m \u001b[1;32mimport\u001b[0m \u001b[0mpylab_setup\u001b[0m\u001b[1;33m\u001b[0m\u001b[0m\n\u001b[1;32m--> 114\u001b[1;33m \u001b[0m_backend_mod\u001b[0m\u001b[1;33m,\u001b[0m \u001b[0mnew_figure_manager\u001b[0m\u001b[1;33m,\u001b[0m \u001b[0mdraw_if_interactive\u001b[0m\u001b[1;33m,\u001b[0m \u001b[0m_show\u001b[0m \u001b[1;33m=\u001b[0m \u001b[0mpylab_setup\u001b[0m\u001b[1;33m(\u001b[0m\u001b[1;33m)\u001b[0m\u001b[1;33m\u001b[0m\u001b[0m\n\u001b[0m\u001b[0;32m    115\u001b[0m \u001b[1;33m\u001b[0m\u001b[0m\n\u001b[0;32m    116\u001b[0m \u001b[0m_IP_REGISTERED\u001b[0m \u001b[1;33m=\u001b[0m \u001b[0mNone\u001b[0m\u001b[1;33m\u001b[0m\u001b[0m\n",
      "\u001b[1;32m/data/rstudio/iberia/anaconda2/lib/python2.7/site-packages/matplotlib/backends/__init__.pyc\u001b[0m in \u001b[0;36mpylab_setup\u001b[1;34m()\u001b[0m\n\u001b[0;32m     30\u001b[0m     \u001b[1;31m# imports. 0 means only perform absolute imports.\u001b[0m\u001b[1;33m\u001b[0m\u001b[1;33m\u001b[0m\u001b[0m\n\u001b[0;32m     31\u001b[0m     backend_mod = __import__(backend_name,\n\u001b[1;32m---> 32\u001b[1;33m                              globals(),locals(),[backend_name],0)\n\u001b[0m\u001b[0;32m     33\u001b[0m \u001b[1;33m\u001b[0m\u001b[0m\n\u001b[0;32m     34\u001b[0m     \u001b[1;31m# Things we pull in from all backends\u001b[0m\u001b[1;33m\u001b[0m\u001b[1;33m\u001b[0m\u001b[0m\n",
      "\u001b[1;32m/data/rstudio/iberia/anaconda2/lib/python2.7/site-packages/matplotlib/backends/backend_tkagg.py\u001b[0m in \u001b[0;36m<module>\u001b[1;34m()\u001b[0m\n\u001b[0;32m      4\u001b[0m \u001b[1;33m\u001b[0m\u001b[0m\n\u001b[0;32m      5\u001b[0m \u001b[1;32mfrom\u001b[0m \u001b[0mmatplotlib\u001b[0m\u001b[1;33m.\u001b[0m\u001b[0mexternals\u001b[0m \u001b[1;32mimport\u001b[0m \u001b[0msix\u001b[0m\u001b[1;33m\u001b[0m\u001b[0m\n\u001b[1;32m----> 6\u001b[1;33m \u001b[1;32mfrom\u001b[0m \u001b[0mmatplotlib\u001b[0m\u001b[1;33m.\u001b[0m\u001b[0mexternals\u001b[0m\u001b[1;33m.\u001b[0m\u001b[0msix\u001b[0m\u001b[1;33m.\u001b[0m\u001b[0mmoves\u001b[0m \u001b[1;32mimport\u001b[0m \u001b[0mtkinter\u001b[0m \u001b[1;32mas\u001b[0m \u001b[0mTk\u001b[0m\u001b[1;33m\u001b[0m\u001b[0m\n\u001b[0m\u001b[0;32m      7\u001b[0m \u001b[1;32mfrom\u001b[0m \u001b[0mmatplotlib\u001b[0m\u001b[1;33m.\u001b[0m\u001b[0mexternals\u001b[0m\u001b[1;33m.\u001b[0m\u001b[0msix\u001b[0m\u001b[1;33m.\u001b[0m\u001b[0mmoves\u001b[0m \u001b[1;32mimport\u001b[0m \u001b[0mtkinter_filedialog\u001b[0m \u001b[1;32mas\u001b[0m \u001b[0mFileDialog\u001b[0m\u001b[1;33m\u001b[0m\u001b[0m\n\u001b[0;32m      8\u001b[0m \u001b[1;33m\u001b[0m\u001b[0m\n",
      "\u001b[1;32m/data/rstudio/iberia/anaconda2/lib/python2.7/site-packages/matplotlib/externals/six.pyc\u001b[0m in \u001b[0;36mload_module\u001b[1;34m(self, fullname)\u001b[0m\n\u001b[0;32m    197\u001b[0m         \u001b[0mmod\u001b[0m \u001b[1;33m=\u001b[0m \u001b[0mself\u001b[0m\u001b[1;33m.\u001b[0m\u001b[0m__get_module\u001b[0m\u001b[1;33m(\u001b[0m\u001b[0mfullname\u001b[0m\u001b[1;33m)\u001b[0m\u001b[1;33m\u001b[0m\u001b[0m\n\u001b[0;32m    198\u001b[0m         \u001b[1;32mif\u001b[0m \u001b[0misinstance\u001b[0m\u001b[1;33m(\u001b[0m\u001b[0mmod\u001b[0m\u001b[1;33m,\u001b[0m \u001b[0mMovedModule\u001b[0m\u001b[1;33m)\u001b[0m\u001b[1;33m:\u001b[0m\u001b[1;33m\u001b[0m\u001b[0m\n\u001b[1;32m--> 199\u001b[1;33m             \u001b[0mmod\u001b[0m \u001b[1;33m=\u001b[0m \u001b[0mmod\u001b[0m\u001b[1;33m.\u001b[0m\u001b[0m_resolve\u001b[0m\u001b[1;33m(\u001b[0m\u001b[1;33m)\u001b[0m\u001b[1;33m\u001b[0m\u001b[0m\n\u001b[0m\u001b[0;32m    200\u001b[0m         \u001b[1;32melse\u001b[0m\u001b[1;33m:\u001b[0m\u001b[1;33m\u001b[0m\u001b[0m\n\u001b[0;32m    201\u001b[0m             \u001b[0mmod\u001b[0m\u001b[1;33m.\u001b[0m\u001b[0m__loader__\u001b[0m \u001b[1;33m=\u001b[0m \u001b[0mself\u001b[0m\u001b[1;33m\u001b[0m\u001b[0m\n",
      "\u001b[1;32m/data/rstudio/iberia/anaconda2/lib/python2.7/site-packages/matplotlib/externals/six.pyc\u001b[0m in \u001b[0;36m_resolve\u001b[1;34m(self)\u001b[0m\n\u001b[0;32m    111\u001b[0m \u001b[1;33m\u001b[0m\u001b[0m\n\u001b[0;32m    112\u001b[0m     \u001b[1;32mdef\u001b[0m \u001b[0m_resolve\u001b[0m\u001b[1;33m(\u001b[0m\u001b[0mself\u001b[0m\u001b[1;33m)\u001b[0m\u001b[1;33m:\u001b[0m\u001b[1;33m\u001b[0m\u001b[0m\n\u001b[1;32m--> 113\u001b[1;33m         \u001b[1;32mreturn\u001b[0m \u001b[0m_import_module\u001b[0m\u001b[1;33m(\u001b[0m\u001b[0mself\u001b[0m\u001b[1;33m.\u001b[0m\u001b[0mmod\u001b[0m\u001b[1;33m)\u001b[0m\u001b[1;33m\u001b[0m\u001b[0m\n\u001b[0m\u001b[0;32m    114\u001b[0m \u001b[1;33m\u001b[0m\u001b[0m\n\u001b[0;32m    115\u001b[0m     \u001b[1;32mdef\u001b[0m \u001b[0m__getattr__\u001b[0m\u001b[1;33m(\u001b[0m\u001b[0mself\u001b[0m\u001b[1;33m,\u001b[0m \u001b[0mattr\u001b[0m\u001b[1;33m)\u001b[0m\u001b[1;33m:\u001b[0m\u001b[1;33m\u001b[0m\u001b[0m\n",
      "\u001b[1;32m/data/rstudio/iberia/anaconda2/lib/python2.7/site-packages/matplotlib/externals/six.pyc\u001b[0m in \u001b[0;36m_import_module\u001b[1;34m(name)\u001b[0m\n\u001b[0;32m     78\u001b[0m \u001b[1;32mdef\u001b[0m \u001b[0m_import_module\u001b[0m\u001b[1;33m(\u001b[0m\u001b[0mname\u001b[0m\u001b[1;33m)\u001b[0m\u001b[1;33m:\u001b[0m\u001b[1;33m\u001b[0m\u001b[0m\n\u001b[0;32m     79\u001b[0m     \u001b[1;34m\"\"\"Import module, returning the module after the last dot.\"\"\"\u001b[0m\u001b[1;33m\u001b[0m\u001b[0m\n\u001b[1;32m---> 80\u001b[1;33m     \u001b[0m__import__\u001b[0m\u001b[1;33m(\u001b[0m\u001b[0mname\u001b[0m\u001b[1;33m)\u001b[0m\u001b[1;33m\u001b[0m\u001b[0m\n\u001b[0m\u001b[0;32m     81\u001b[0m     \u001b[1;32mreturn\u001b[0m \u001b[0msys\u001b[0m\u001b[1;33m.\u001b[0m\u001b[0mmodules\u001b[0m\u001b[1;33m[\u001b[0m\u001b[0mname\u001b[0m\u001b[1;33m]\u001b[0m\u001b[1;33m\u001b[0m\u001b[0m\n\u001b[0;32m     82\u001b[0m \u001b[1;33m\u001b[0m\u001b[0m\n",
      "\u001b[1;32m/data/rstudio/iberia/anaconda2/lib/python2.7/lib-tk/Tkinter.py\u001b[0m in \u001b[0;36m<module>\u001b[1;34m()\u001b[0m\n\u001b[0;32m     37\u001b[0m     \u001b[1;31m# Attempt to configure Tcl/Tk without requiring PATH\u001b[0m\u001b[1;33m\u001b[0m\u001b[1;33m\u001b[0m\u001b[0m\n\u001b[0;32m     38\u001b[0m     \u001b[1;32mimport\u001b[0m \u001b[0mFixTk\u001b[0m\u001b[1;33m\u001b[0m\u001b[0m\n\u001b[1;32m---> 39\u001b[1;33m \u001b[1;32mimport\u001b[0m \u001b[0m_tkinter\u001b[0m \u001b[1;31m# If this fails your Python may not be configured for Tk\u001b[0m\u001b[1;33m\u001b[0m\u001b[0m\n\u001b[0m\u001b[0;32m     40\u001b[0m \u001b[0mtkinter\u001b[0m \u001b[1;33m=\u001b[0m \u001b[0m_tkinter\u001b[0m \u001b[1;31m# b/w compat for export\u001b[0m\u001b[1;33m\u001b[0m\u001b[0m\n\u001b[0;32m     41\u001b[0m \u001b[0mTclError\u001b[0m \u001b[1;33m=\u001b[0m \u001b[0m_tkinter\u001b[0m\u001b[1;33m.\u001b[0m\u001b[0mTclError\u001b[0m\u001b[1;33m\u001b[0m\u001b[0m\n",
      "\u001b[1;31mImportError\u001b[0m: /usr/lib64/libxcb-xlib.so.0: undefined symbol: _xcb_lock_io"
     ]
    }
   ],
   "source": [
    "import seaborn as sns\n",
    "import matplotlib.pyplot as plt"
   ]
  },
  {
   "cell_type": "code",
   "execution_count": 1,
   "metadata": {
    "collapsed": true
   },
   "outputs": [],
   "source": [
    "import pandas as pd\n",
    "import numpy as np\n",
    "import itertools\n",
    "import random\n",
    "import csv\n",
    "import json\n",
    "import re\n",
    "from sklearn import preprocessing\n",
    "from sklearn.ensemble import RandomForestClassifier\n",
    "from sklearn.feature_selection import SelectFromModel\n",
    "from sklearn.model_selection import cross_val_score,cross_val_predict\n",
    "from sklearn.model_selection import train_test_split\n",
    "from sklearn.model_selection import KFold\n",
    "from sklearn.metrics import r2_score,make_scorer\n",
    "from sklearn.metrics import accuracy_score\n",
    "from collections import Counter\n",
    "from sklearn.metrics import confusion_matrix"
   ]
  },
  {
   "cell_type": "code",
   "execution_count": 2,
   "metadata": {
    "collapsed": true
   },
   "outputs": [],
   "source": [
    "DATA_DIR = '/data/rstudio/iberia/data/'\n",
    "FEATURES = range(55,654) # con ss\n",
    "TARGET_COLS = ['TOTAL']"
   ]
  },
  {
   "cell_type": "code",
   "execution_count": 4,
   "metadata": {
    "collapsed": false
   },
   "outputs": [],
   "source": [
    "data = pd.read_csv(DATA_DIR + 'feature_matrix_extra_all_w_derivates_weightedaveragefinalSSperstore_def.csv',sep='|',index_col='CLIENT_ID',encoding='utf-8')"
   ]
  },
  {
   "cell_type": "code",
   "execution_count": 5,
   "metadata": {
    "collapsed": false
   },
   "outputs": [],
   "source": [
    "data = data[data.USABLE == True]"
   ]
  },
  {
   "cell_type": "markdown",
   "metadata": {},
   "source": [
    "## Data Preparation"
   ]
  },
  {
   "cell_type": "markdown",
   "metadata": {},
   "source": [
    "Convert all features to float and fill NAs in \\_CLOSEST variables "
   ]
  },
  {
   "cell_type": "code",
   "execution_count": 6,
   "metadata": {
    "collapsed": false
   },
   "outputs": [],
   "source": [
    "X_all = data[FEATURES]\n",
    "\n",
    "closest=list()\n",
    "ind=list()\n",
    "for i in range(X_all.columns.shape[0]):\n",
    "    if re.match('^.*_CLOSEST$',X_all.columns[i]) != None:\n",
    "        closest.append(i) \n",
    "    if re.match('^ind_.*',X_all.columns[i]) != None:\n",
    "        ind.append(i)\n",
    "\n",
    "# Fill NA (should be only in _closest) with the max value of _closest\n",
    "nan_cols_closest = X_all[closest].columns[pd.isnull(X_all[closest]).sum() > 0].tolist()\n",
    "max_mean = X_all[nan_cols_closest].max().mean()\n",
    "X_all.loc[:,nan_cols_closest] = X_all[nan_cols_closest].fillna(X_all[nan_cols_closest].max())\n",
    "X_all = X_all.astype(np.float)\n",
    "\n",
    "# Fill NA (should be only in ind_) with 0\n",
    "nan_cols_ind = X_all[ind].columns[pd.isnull(X_all[ind]).sum() > 0].tolist()\n",
    "X_all.loc[:,nan_cols_ind] = X_all[nan_cols_ind].fillna(0)\n",
    "X_all = X_all.astype(np.float)\n",
    "\n",
    "# Repare boolean variables\n",
    "X_all.loc[:,['IS_KIOSK','COAST','MEGA_CITY']] = X_all[['IS_KIOSK','COAST','MEGA_CITY']].astype('bool')"
   ]
  },
  {
   "cell_type": "markdown",
   "metadata": {},
   "source": [
    "Add TYPE_ESTABLISHMENT_NIELSEN"
   ]
  },
  {
   "cell_type": "code",
   "execution_count": 8,
   "metadata": {
    "collapsed": false
   },
   "outputs": [],
   "source": [
    "le_establ = preprocessing.LabelEncoder()\n",
    "le_establ.fit(data['TYPE_ESTABLISHMENT_NIELSEN'])\n",
    "X_all['TYPE_ESTABLISHMENT_NIELSEN'] = le_establ.transform(data.TYPE_ESTABLISHMENT_NIELSEN)"
   ]
  },
  {
   "cell_type": "code",
   "execution_count": 9,
   "metadata": {
    "collapsed": true
   },
   "outputs": [],
   "source": [
    "X_nielsen = X_all[data.IN_NIELSEN == True]\n",
    "Y_nielsen = data[data.IN_NIELSEN == True][TARGET_COLS]"
   ]
  },
  {
   "cell_type": "markdown",
   "metadata": {},
   "source": [
    "## Models definitions"
   ]
  },
  {
   "cell_type": "code",
   "execution_count": 10,
   "metadata": {
    "collapsed": true
   },
   "outputs": [],
   "source": [
    "rf_class = RandomForestClassifier(n_estimators=100, random_state=123)\n",
    "#rf_class = RandomForestClassifier(n_estimators=100, random_state=123, class_weight='balanced_subsample')\n",
    "#rf_class = RandomForestClassifier(n_estimators=100, random_state=123, class_weight={1: 0.2, 2: 0.5, 3: 1})\n",
    "kf = KFold(n_splits=10)"
   ]
  },
  {
   "cell_type": "markdown",
   "metadata": {},
   "source": [
    "## Functions"
   ]
  },
  {
   "cell_type": "markdown",
   "metadata": {},
   "source": [
    "__Feature Selection__"
   ]
  },
  {
   "cell_type": "code",
   "execution_count": 29,
   "metadata": {
    "collapsed": false
   },
   "outputs": [],
   "source": [
    "def feature_selection(X,Y,target_cols,model):\n",
    "    \n",
    "    features = dict()\n",
    "    features_all = dict()\n",
    "    names = X.columns.tolist()\n",
    "\n",
    "    for col in target_cols:    \n",
    "\n",
    "        y = Y[col]\n",
    "        #y = y[y < y.quantile(.95)]\n",
    "        X_pred = X.loc[y.index,:]\n",
    "        \n",
    "        l = [min(y)-1, 3240.00, 7080.00, max(y)+1]\n",
    "        \n",
    "        y_cat = pd.cut(y,l,labels=range(1,4))\n",
    "\n",
    "        w = pd.cut(y,l,labels=range(1,4))\n",
    "        c = Counter(w)\n",
    "        d = dict()\n",
    "        for i in range(1,4): d[i] = int(round(float(max(c.values())) / float(c[i])))\n",
    "        w = w.map(d)\n",
    "        \n",
    "        #model.fit(X_pred,y_cat,w)\n",
    "        model.fit(X_pred,y_cat)\n",
    "\n",
    "        thres = 2*np.mean(model.feature_importances_)\n",
    "\n",
    "        features_tmp = []\n",
    "        features_tmp_all = sorted(zip(model.feature_importances_, names), reverse=True)\n",
    "        for imp,name in features_tmp_all:\n",
    "            if imp > thres:\n",
    "                features_tmp.append((imp,name))\n",
    "        \n",
    "        features[col] = features_tmp\n",
    "        features_all[col] = features_tmp_all\n",
    "    \n",
    "    return features, features_all"
   ]
  },
  {
   "cell_type": "code",
   "execution_count": 30,
   "metadata": {
    "collapsed": true
   },
   "outputs": [
    {
     "data": {
      "text/plain": [
       "{'TOTAL': [(0.055996597317045919, 'TYPE_ESTABLISHMENT_NIELSEN'),\n",
       "  (0.012435940751098506, u'LANGUAGE_SCHOOL_CLOSEST'),\n",
       "  (0.01168566590089414, u'FOODKIDS_CLOSEST'),\n",
       "  (0.0099557175165371509, u'DRINKING_WATER_CLOSEST'),\n",
       "  (0.0099520505166622395, u'PARKING_CLOSEST'),\n",
       "  (0.0099107650752192147, u'LIBRARY_CLOSEST'),\n",
       "  (0.0099054231730222649, u'SUBWAY_ENTRANCE_CLOSEST'),\n",
       "  (0.0097682232594468697, u'DRIVING_SCHOOL_CLOSEST'),\n",
       "  (0.0097664119862240079, u'RAIL_STATION_CLOSEST'),\n",
       "  (0.0097624960883374405, u'GOLF_COURSE_CLOSEST'),\n",
       "  (0.0097137292466798683, u'PITCH_CLOSEST'),\n",
       "  (0.0095723448830933797, u'MALE_30_39'),\n",
       "  (0.0094760155120420641, u'SCHOOL_CLOSEST'),\n",
       "  (0.0094707055775622787, u'THEATRE_CLOSEST'),\n",
       "  (0.0094679301233884811, u'TAXI_CLOSEST'),\n",
       "  (0.0094412073439955699, u'ACCOMMODATION_CLOSEST'),\n",
       "  (0.0093938834855563681, u'TOURIST_INFORMATION_CLOSEST'),\n",
       "  (0.0093774031337231136, u'MUSEUM_AND_GALLERY_CLOSEST'),\n",
       "  (0.0093342763042934193, u'RESTAURANT_CLOSEST'),\n",
       "  (0.0093329172186179549, u'SPORTS_CENTRE_CLOSEST'),\n",
       "  (0.0092637497249215186, u'BUS_STOP_CLOSEST'),\n",
       "  (0.0092537968662997627, u'TOURIST_ATTRACTION_CLOSEST'),\n",
       "  (0.0092536523742718126, u'PARK_CLOSEST'),\n",
       "  (0.0092299603040547438, u'FAST_FOOD_CLOSEST'),\n",
       "  (0.0091478373626057204, u'BENCH_CLOSEST'),\n",
       "  (0.0091292404994061504, u'MUSIC_SCHOOL_CLOSEST'),\n",
       "  (0.0091084929539252558, u'COLLEGE_CLOSEST'),\n",
       "  (0.0089686358143321668, u'FEMALE_FROM_70'),\n",
       "  (0.0089476619610108343, u'USERS_OVER50_022016'),\n",
       "  (0.008944636508541411, u'SWIMMING_POOL_CLOSEST'),\n",
       "  (0.0089004867392400849, u'PLAYGROUND_CLOSEST'),\n",
       "  (0.0088922583564192449, u'CAFE_CLOSEST'),\n",
       "  (0.0088894013062086122, u'BAR_CLOSEST'),\n",
       "  (0.0088520696596186606, u'MALE_40_49'),\n",
       "  (0.0088516096388335345, u'UNIVERSITY_CLOSEST'),\n",
       "  (0.0087456474888362948, u'TOTAL_HOUSEHOLDS'),\n",
       "  (0.0087064475896224854, u'VISITS_NOCHE_102015'),\n",
       "  (0.0087057290480751209, u'BUS_STATION_CLOSEST'),\n",
       "  (0.0086202658764701224, u'MALE_0_4'),\n",
       "  (0.0085530903738413305, u'PLACE_OF_WORSHIP_CLOSEST'),\n",
       "  (0.0085514314213051262, u'VISITS_OVER50_MEDIAN'),\n",
       "  (0.0085173340837369597, u'MAIN_HOUSES'),\n",
       "  (0.0085151749335162161, u'VISITS_NOCHE_062015'),\n",
       "  (0.008502683561563678, u'USERS_NOCHE_102015'),\n",
       "  (0.0084912739132442603, u'FEMALE_0_4'),\n",
       "  (0.0084482661765896659, u'EMPTY_HOUSES'),\n",
       "  (0.0084324832944867104, u'USERS_NOCHE_082015'),\n",
       "  (0.0083784637085479504, u'VISITS_NOCHE_MEAN'),\n",
       "  (0.0083417131236073003, u'CINEMA_CLOSEST'),\n",
       "  (0.0082681557743212869, u'ZOO_AND_THEME_PARK_CLOSEST'),\n",
       "  (0.00826315953689628, u'MALE_10_14'),\n",
       "  (0.0082597254403290361, u'USERS_NOCHE_022016'),\n",
       "  (0.0082147053901382092, u'USERS_OVER50_102015'),\n",
       "  (0.0082068827073578047, u'MALE_5_9'),\n",
       "  (0.008156378131224197, u'VISITS_NOCHE_MEDIAN'),\n",
       "  (0.0081379145619323214, u'USERS_OVER50_MEAN'),\n",
       "  (0.0081117184871664569, u'FEMALE_5_9'),\n",
       "  (0.008073442235538051, u'FEMALE_10_14'),\n",
       "  (0.0080631408293680724, u'FEMALE_60_69'),\n",
       "  (0.0080389856739696858, u'VISITS_OVER50_102015'),\n",
       "  (0.0080359626161709882, u'FEMALE_50_59'),\n",
       "  (0.0080352795061867481, u'VISITS_NOCHE_SUM'),\n",
       "  (0.007998970704086868, u'MALE_15_17'),\n",
       "  (0.0079604834801722587, u'USERS_NOCHE_MEDIAN'),\n",
       "  (0.0079395362055270074, u'USERS_OVER50_062015'),\n",
       "  (0.007939366979740542, u'USERS_NOCHE_SUM'),\n",
       "  (0.0079199303981294881, u'SECOND_HOUSES'),\n",
       "  (0.007885275379176505, u'VISITS_OVER50_MEAN'),\n",
       "  (0.0078731452910683047, u'VISITS_OVER50_082015'),\n",
       "  (0.0078508774388526565, u'USERS_OVER50_MEDIAN'),\n",
       "  (0.0078483219488633803, u'USERS_NOCHE_062015'),\n",
       "  (0.0078472539868563104, u'MALE_50_59'),\n",
       "  (0.0078125996374206579, u'USERS_OVER50_082015'),\n",
       "  (0.0078109505452615292, u'USERS_NOCHE_MEAN'),\n",
       "  (0.0077897021090832415, u'VISITS_NOCHE_082015'),\n",
       "  (0.0077689674548929166, u'VISITS_NOCHE_022016'),\n",
       "  (0.0077577788392411192, u'TOTAL_POPULATION'),\n",
       "  (0.0077518102440544056, u'MALE_60_69'),\n",
       "  (0.007702456664131838, u'FEMALE_TO_17'),\n",
       "  (0.0076807519010598079, u'TOTAL_MALE'),\n",
       "  (0.0076709077680388324, u'IS_KIOSK'),\n",
       "  (0.007664635273592635, u'MALE_FROM_70'),\n",
       "  (0.0076502216084709277, u'USERS_OVER50_SUM'),\n",
       "  (0.007647542257531178, u'MALE_TO_17'),\n",
       "  (0.0076409094001300181, u'FEMALE_30_39'),\n",
       "  (0.0076314960605051276, u'VISITS_OVER50_062015'),\n",
       "  (0.0075544816781313359, u'FEMALE_40_49'),\n",
       "  (0.0074811608779468694, u'VISITS_OVER50_SUM'),\n",
       "  (0.0074406556409220446, u'VISITS_OVER50_022016'),\n",
       "  (0.0074251659186672396, u'FEMALE_15_17'),\n",
       "  (0.0073648954485547643, u'MALE_18_29'),\n",
       "  (0.0073473167308460785, u'TOTAL_FEMALE'),\n",
       "  (0.0072118851254483959, u'FEMALE_18_29'),\n",
       "  (0.0060429152190005411, u'FOODKIDS_FAR'),\n",
       "  (0.0059323148729938891, u'BEACH_CLOSEST'),\n",
       "  (0.0051489197620901116, u'FOODKIDS_CLOSE'),\n",
       "  (0.0043048661116350459, u'BUS_STOP_FAR'),\n",
       "  (0.0036436415158783118, u'SCHOOL_FAR'),\n",
       "  (0.0036422247880380427, u'RESTAURANT_FAR')]}"
      ]
     },
     "execution_count": 30,
     "metadata": {},
     "output_type": "execute_result"
    }
   ],
   "source": [
    "features_rel, features_rel_all = feature_selection(X_nielsen,Y_nielsen,TARGET_COLS,rf_class)\n",
    "features_rel"
   ]
  },
  {
   "cell_type": "code",
   "execution_count": 44,
   "metadata": {
    "collapsed": true
   },
   "outputs": [],
   "source": [
    "with open(DATA_DIR + 'features_importance_POS_category_classification_all_weight.json', 'w') as fp:\n",
    "    json.dump(features_rel_all, fp)"
   ]
  },
  {
   "cell_type": "markdown",
   "metadata": {},
   "source": [
    "__Classification__"
   ]
  },
  {
   "cell_type": "code",
   "execution_count": 31,
   "metadata": {
    "collapsed": true
   },
   "outputs": [],
   "source": [
    "def category_classification_score(X,Y,target_cols,model,features=False,cv=kf):\n",
    "    \n",
    "    scores = dict()\n",
    "\n",
    "    for col in target_cols:\n",
    "        print col\n",
    "\n",
    "        y = Y[col]\n",
    "        #y = y[y < y.quantile(.95)]\n",
    "        X_pred = X.loc[y.index,:]\n",
    "\n",
    "        l = [min(y)-1, 3240.00, 7080.00, max(y)+1]\n",
    "\n",
    "        y_cat = pd.cut(y,l,labels=range(1,4))\n",
    "\n",
    "        w = pd.cut(y,l,labels=range(1,4))\n",
    "        c = Counter(w)\n",
    "        d = dict()\n",
    "        for i in range(1,4): d[i] = int(round(float(max(c.values())) / float(c[i])))\n",
    "        w = w.map(d)\n",
    "\n",
    "        if features != False:\n",
    "            feat = [f[1] for f in features[col]]\n",
    "            X_pred = X_pred[feat]    \n",
    "\n",
    "        #scores[col] = cross_val_score(model, X_pred, y_cat, cv=cv, fit_params={'sample_weight': w})\n",
    "        scores[col] = cross_val_score(model, X_pred, y_cat, cv=cv)\n",
    "        \n",
    "        print scores[col]\n",
    "        print np.mean(scores[col])\n",
    "    \n",
    "    return scores"
   ]
  },
  {
   "cell_type": "code",
   "execution_count": 32,
   "metadata": {
    "collapsed": false
   },
   "outputs": [
    {
     "name": "stdout",
     "output_type": "stream",
     "text": [
      "TOTAL\n",
      "[ 0.6038961   0.54935065  0.6038961   0.58441558  0.54285714  0.6025974\n",
      "  0.61378414  0.63328999  0.48504551  0.49284785]\n",
      "0.571198047726\n"
     ]
    }
   ],
   "source": [
    "class_scores = category_classification_score(X_nielsen,Y_nielsen,TARGET_COLS,rf_class,cv=kf)"
   ]
  },
  {
   "cell_type": "markdown",
   "metadata": {},
   "source": [
    "__Predicciones__"
   ]
  },
  {
   "cell_type": "code",
   "execution_count": 162,
   "metadata": {
    "collapsed": true
   },
   "outputs": [],
   "source": [
    "def category_classification_prediction(X_train,Y_train,X_test,Y_test,target_cols,model,features=False):\n",
    "    \n",
    "    targets = dict()\n",
    "    preds = dict()\n",
    "    \n",
    "    for col in target_cols:\n",
    "        \n",
    "        print col\n",
    "        \n",
    "        y = Y_train[col]\n",
    "        #y = y[y < y.quantile(.95)]\n",
    "        X_pred = X_train.loc[y.index,:]\n",
    "              \n",
    "        l = [min(y)-1, 3240.00, 7080.00, max(y)+1]\n",
    "\n",
    "        y_cat = pd.cut(y,l,labels=range(1,4))\n",
    "\n",
    "        w = pd.cut(y,l,labels=range(1,4))\n",
    "        c = Counter(w)\n",
    "        d = dict()\n",
    "        for i in range(1,4): d[i] = int(round(float(max(c.values())) / float(c[i])))\n",
    "        w = w.map(d)\n",
    "\n",
    "        X_test_aux = X_test\n",
    "\n",
    "        if features != False:\n",
    "            feat = [f[1] for f in features[col]]\n",
    "            X_pred = X_pred[feat]\n",
    "            X_test_aux = X_test[feat]\n",
    "            \n",
    "        model.fit(X_pred,y_cat,w)\n",
    "        #model.fit(X_pred,y_cat)\n",
    "        \n",
    "        targets[col] = Y_test[col]\n",
    "        preds[col] = model.predict(X_test_aux)\n",
    "    \n",
    "    return targets,preds"
   ]
  },
  {
   "cell_type": "code",
   "execution_count": 11,
   "metadata": {
    "collapsed": false
   },
   "outputs": [],
   "source": [
    "data_topredict = pd.read_csv(DATA_DIR + 'feature_matrix_extra_all_w_derivates_weightedaveragefinalSSperstore_def.csv',sep='|',index_col='CLIENT_ID',encoding='utf-8')\n",
    "\n",
    "data_topredict = data_topredict[data_topredict.USABLE == True]\n",
    "\n",
    "X_topredict = data_topredict[FEATURES]\n",
    "Y_topredict = data_topredict[TARGET_COLS]\n",
    "\n",
    "closest=list()\n",
    "ind=list()\n",
    "for i in range(X_topredict.columns.shape[0]):\n",
    "    if re.match('^.*_CLOSEST$',X_topredict.columns[i]) != None:\n",
    "        closest.append(i) \n",
    "    if re.match('^ind_.*',X_topredict.columns[i]) != None:\n",
    "        ind.append(i)\n",
    "\n",
    "# Fill NA (should be only in _closest) with the mean max value of _closest\n",
    "nan_cols_closest = X_topredict[closest].columns[pd.isnull(X_topredict[closest]).sum() > 0].tolist()\n",
    "max_mean = X_topredict[nan_cols_closest].max().mean()\n",
    "X_topredict.loc[:,nan_cols_closest] = X_topredict[nan_cols_closest].fillna(X_topredict[nan_cols_closest].max())\n",
    "X_topredict = X_topredict.astype(np.float)\n",
    "\n",
    "# Fill NA (should be only in ind_) with 0\n",
    "nan_cols_ind = X_topredict[ind].columns[pd.isnull(X_topredict[ind]).sum() > 0].tolist()\n",
    "X_topredict.loc[:,nan_cols_ind] = X_topredict[nan_cols_ind].fillna(0)\n",
    "X_topredict = X_topredict.astype(np.float)\n",
    "\n",
    "# Repare boolean variables\n",
    "X_topredict.loc[:,['IS_KIOSK','COAST','MEGA_CITY']] = X_topredict[['IS_KIOSK','COAST','MEGA_CITY']].astype('bool')\n",
    "\n",
    "# Add TYPE ESTABLISHMENT\n",
    "le_establ = preprocessing.LabelEncoder()\n",
    "le_establ.fit(data_topredict['TYPE_ESTABLISHMENT_NIELSEN'])\n",
    "X_topredict['TYPE_ESTABLISHMENT_NIELSEN'] = le_establ.transform(data_topredict.TYPE_ESTABLISHMENT_NIELSEN)"
   ]
  },
  {
   "cell_type": "code",
   "execution_count": null,
   "metadata": {
    "collapsed": true
   },
   "outputs": [],
   "source": [
    "targets,preds = category_classification_prediction(X_nielsen,Y_nielsen,X_topredict,Y_topredict,TARGET_COLS,rf_class)\n",
    "Y_pred = pd.DataFrame(preds)\n",
    "Y_pred.index = X_topredict.index\n",
    "Y_pred.columns = [x + '_pred' for x in Y_pred.columns.tolist()]\n",
    "Y_pred.join(Y_topredict).to_csv(DATA_DIR + 'POS_category_classification_prediction_all_weight.csv',sep=';',encoding='utf-8')"
   ]
  },
  {
   "cell_type": "code",
   "execution_count": 77,
   "metadata": {
    "collapsed": true
   },
   "outputs": [],
   "source": [
    "for col in TARGET_COLS:\n",
    "    data_topredict.loc[targets[col].index,col + '_pred'] = preds[col]"
   ]
  },
  {
   "cell_type": "code",
   "execution_count": 78,
   "metadata": {
    "collapsed": true
   },
   "outputs": [
    {
     "name": "stdout",
     "output_type": "stream",
     "text": [
      "TOTAL_CHIPS_LESS_50\n",
      "0.107432147647\n",
      "TOTAL_CHIPS_MORE_50\n",
      "0.30273039743\n",
      "TOTAL_SNACKS_LESS_50\n",
      "0.257690411939\n",
      "TOTAL_SNACKS_MORE_50\n",
      "0.214973831111\n"
     ]
    }
   ],
   "source": [
    "for col in TARGET_COLS:\n",
    "    print col\n",
    "    results = data_topredict[data_topredict[col].notnull()][[col,col + '_pred']]\n",
    "    print r2_score(results[col],results[col + '_pred'])\n",
    "    results = results.sort_values(col)"
   ]
  },
  {
   "cell_type": "code",
   "execution_count": 12,
   "metadata": {
    "collapsed": true
   },
   "outputs": [],
   "source": [
    "def classification_cross_val_predict(X,Y,target_cols,model,features=False,cv=kf):\n",
    "    \n",
    "    targets = dict()\n",
    "    preds = dict()\n",
    "    \n",
    "    for col in target_cols:\n",
    "        \n",
    "        print col\n",
    "\n",
    "        y = Y[col]\n",
    "        #y = y[y < y.quantile(.95)]\n",
    "        X_pred = X.loc[y.index,:]\n",
    "        \n",
    "        l = [min(y)-1, 3240.00, 7080.00, max(y)+1]\n",
    "\n",
    "        y_cat = pd.cut(y,l,labels=range(1,4))\n",
    "\n",
    "        w = pd.cut(y,l,labels=range(1,4))\n",
    "        c = Counter(w)\n",
    "        d = dict()\n",
    "        for i in range(1,4): d[i] = int(round(float(max(c.values())) / float(c[i])))\n",
    "        w = w.map(d)\n",
    "\n",
    "        if features != False:\n",
    "            feat = [f[1] for f in features[col]]\n",
    "            X_pred = X_pred[feat]\n",
    "                \n",
    "        targets[col] = y_cat\n",
    "        \n",
    "        #preds[col] = cross_val_predict(model, X_pred, y_cat, cv=cv, fit_params={'sample_weight': w})\n",
    "        preds[col] = cross_val_predict(model, X_pred, y_cat, cv=cv)\n",
    "\n",
    "    return targets,preds"
   ]
  },
  {
   "cell_type": "code",
   "execution_count": 13,
   "metadata": {
    "collapsed": false
   },
   "outputs": [
    {
     "name": "stdout",
     "output_type": "stream",
     "text": [
      "TOTAL\n"
     ]
    }
   ],
   "source": [
    "targets,preds = classification_cross_val_predict(X_nielsen,Y_nielsen,TARGET_COLS,rf_class,cv=kf)\n",
    "Y_pred = pd.DataFrame(preds)\n",
    "Y_pred.index = X_nielsen.index\n",
    "Y_pred.columns = [x + '_pred' for x in Y_pred.columns.tolist()]\n",
    "Y_pred.join(Y_nielsen).to_csv(DATA_DIR + 'POS_category_classification_prediction_all_weight_w_cross_valid.csv',sep=';',encoding='utf-8')"
   ]
  },
  {
   "cell_type": "code",
   "execution_count": 43,
   "metadata": {
    "collapsed": false
   },
   "outputs": [
    {
     "data": {
      "text/plain": [
       "array([[3522,  742,  116],\n",
       "       [1557,  783,   90],\n",
       "       [ 478,  317,   91]])"
      ]
     },
     "execution_count": 43,
     "metadata": {},
     "output_type": "execute_result"
    }
   ],
   "source": [
    "Y_target = pd.DataFrame(targets)\n",
    "cnf_matrix = confusion_matrix(Y_target['TOTAL'], Y_pred['TOTAL_pred'])\n",
    "cnf_matrix"
   ]
  }
 ],
 "metadata": {
  "anaconda-cloud": {},
  "kernelspec": {
   "display_name": "Python [Root]",
   "language": "python",
   "name": "Python [Root]"
  },
  "language_info": {
   "codemirror_mode": {
    "name": "ipython",
    "version": 2
   },
   "file_extension": ".py",
   "mimetype": "text/x-python",
   "name": "python",
   "nbconvert_exporter": "python",
   "pygments_lexer": "ipython2",
   "version": "2.7.12"
  }
 },
 "nbformat": 4,
 "nbformat_minor": 0
}
