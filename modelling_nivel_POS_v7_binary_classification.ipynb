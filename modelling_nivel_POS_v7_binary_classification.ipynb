{
 "cells": [
  {
   "cell_type": "code",
   "execution_count": 1,
   "metadata": {
    "collapsed": true
   },
   "outputs": [
    {
     "ename": "ImportError",
     "evalue": "/usr/lib64/libxcb-xlib.so.0: undefined symbol: _xcb_lock_io",
     "output_type": "error",
     "traceback": [
      "\u001b[1;31m---------------------------------------------------------------------------\u001b[0m",
      "\u001b[1;31mImportError\u001b[0m                               Traceback (most recent call last)",
      "\u001b[1;32m<ipython-input-1-a1e6222ba10f>\u001b[0m in \u001b[0;36m<module>\u001b[1;34m()\u001b[0m\n\u001b[1;32m----> 1\u001b[1;33m \u001b[1;32mimport\u001b[0m \u001b[0mseaborn\u001b[0m \u001b[1;32mas\u001b[0m \u001b[0msns\u001b[0m\u001b[1;33m\u001b[0m\u001b[0m\n\u001b[0m\u001b[0;32m      2\u001b[0m \u001b[1;32mimport\u001b[0m \u001b[0mmatplotlib\u001b[0m\u001b[1;33m.\u001b[0m\u001b[0mpyplot\u001b[0m \u001b[1;32mas\u001b[0m \u001b[0mplt\u001b[0m\u001b[1;33m\u001b[0m\u001b[0m\n",
      "\u001b[1;32m/data/rstudio/iberia/anaconda2/lib/python2.7/site-packages/seaborn/__init__.py\u001b[0m in \u001b[0;36m<module>\u001b[1;34m()\u001b[0m\n\u001b[0;32m      4\u001b[0m \u001b[1;33m\u001b[0m\u001b[0m\n\u001b[0;32m      5\u001b[0m \u001b[1;31m# Import seaborn objects\u001b[0m\u001b[1;33m\u001b[0m\u001b[1;33m\u001b[0m\u001b[0m\n\u001b[1;32m----> 6\u001b[1;33m \u001b[1;32mfrom\u001b[0m \u001b[1;33m.\u001b[0m\u001b[0mrcmod\u001b[0m \u001b[1;32mimport\u001b[0m \u001b[1;33m*\u001b[0m\u001b[1;33m\u001b[0m\u001b[0m\n\u001b[0m\u001b[0;32m      7\u001b[0m \u001b[1;32mfrom\u001b[0m \u001b[1;33m.\u001b[0m\u001b[0mutils\u001b[0m \u001b[1;32mimport\u001b[0m \u001b[1;33m*\u001b[0m\u001b[1;33m\u001b[0m\u001b[0m\n\u001b[0;32m      8\u001b[0m \u001b[1;32mfrom\u001b[0m \u001b[1;33m.\u001b[0m\u001b[0mpalettes\u001b[0m \u001b[1;32mimport\u001b[0m \u001b[1;33m*\u001b[0m\u001b[1;33m\u001b[0m\u001b[0m\n",
      "\u001b[1;32m/data/rstudio/iberia/anaconda2/lib/python2.7/site-packages/seaborn/rcmod.py\u001b[0m in \u001b[0;36m<module>\u001b[1;34m()\u001b[0m\n\u001b[0;32m      6\u001b[0m \u001b[1;32mimport\u001b[0m \u001b[0mmatplotlib\u001b[0m \u001b[1;32mas\u001b[0m \u001b[0mmpl\u001b[0m\u001b[1;33m\u001b[0m\u001b[0m\n\u001b[0;32m      7\u001b[0m \u001b[1;33m\u001b[0m\u001b[0m\n\u001b[1;32m----> 8\u001b[1;33m \u001b[1;32mfrom\u001b[0m \u001b[1;33m.\u001b[0m \u001b[1;32mimport\u001b[0m \u001b[0mpalettes\u001b[0m\u001b[1;33m,\u001b[0m \u001b[0m_orig_rc_params\u001b[0m\u001b[1;33m\u001b[0m\u001b[0m\n\u001b[0m\u001b[0;32m      9\u001b[0m \u001b[1;33m\u001b[0m\u001b[0m\n\u001b[0;32m     10\u001b[0m \u001b[1;33m\u001b[0m\u001b[0m\n",
      "\u001b[1;32m/data/rstudio/iberia/anaconda2/lib/python2.7/site-packages/seaborn/palettes.py\u001b[0m in \u001b[0;36m<module>\u001b[1;34m()\u001b[0m\n\u001b[0;32m     10\u001b[0m \u001b[1;32mfrom\u001b[0m \u001b[1;33m.\u001b[0m\u001b[0mexternal\u001b[0m\u001b[1;33m.\u001b[0m\u001b[0msix\u001b[0m\u001b[1;33m.\u001b[0m\u001b[0mmoves\u001b[0m \u001b[1;32mimport\u001b[0m \u001b[0mrange\u001b[0m\u001b[1;33m\u001b[0m\u001b[0m\n\u001b[0;32m     11\u001b[0m \u001b[1;33m\u001b[0m\u001b[0m\n\u001b[1;32m---> 12\u001b[1;33m \u001b[1;32mfrom\u001b[0m \u001b[1;33m.\u001b[0m\u001b[0mutils\u001b[0m \u001b[1;32mimport\u001b[0m \u001b[0mdesaturate\u001b[0m\u001b[1;33m,\u001b[0m \u001b[0mset_hls_values\u001b[0m\u001b[1;33m,\u001b[0m \u001b[0mget_color_cycle\u001b[0m\u001b[1;33m\u001b[0m\u001b[0m\n\u001b[0m\u001b[0;32m     13\u001b[0m \u001b[1;32mfrom\u001b[0m \u001b[1;33m.\u001b[0m\u001b[0mxkcd_rgb\u001b[0m \u001b[1;32mimport\u001b[0m \u001b[0mxkcd_rgb\u001b[0m\u001b[1;33m\u001b[0m\u001b[0m\n\u001b[0;32m     14\u001b[0m \u001b[1;32mfrom\u001b[0m \u001b[1;33m.\u001b[0m\u001b[0mcrayons\u001b[0m \u001b[1;32mimport\u001b[0m \u001b[0mcrayons\u001b[0m\u001b[1;33m\u001b[0m\u001b[0m\n",
      "\u001b[1;32m/data/rstudio/iberia/anaconda2/lib/python2.7/site-packages/seaborn/utils.py\u001b[0m in \u001b[0;36m<module>\u001b[1;34m()\u001b[0m\n\u001b[0;32m     10\u001b[0m \u001b[1;32mimport\u001b[0m \u001b[0mmatplotlib\u001b[0m \u001b[1;32mas\u001b[0m \u001b[0mmpl\u001b[0m\u001b[1;33m\u001b[0m\u001b[0m\n\u001b[0;32m     11\u001b[0m \u001b[1;32mimport\u001b[0m \u001b[0mmatplotlib\u001b[0m\u001b[1;33m.\u001b[0m\u001b[0mcolors\u001b[0m \u001b[1;32mas\u001b[0m \u001b[0mmplcol\u001b[0m\u001b[1;33m\u001b[0m\u001b[0m\n\u001b[1;32m---> 12\u001b[1;33m \u001b[1;32mimport\u001b[0m \u001b[0mmatplotlib\u001b[0m\u001b[1;33m.\u001b[0m\u001b[0mpyplot\u001b[0m \u001b[1;32mas\u001b[0m \u001b[0mplt\u001b[0m\u001b[1;33m\u001b[0m\u001b[0m\n\u001b[0m\u001b[0;32m     13\u001b[0m \u001b[1;33m\u001b[0m\u001b[0m\n\u001b[0;32m     14\u001b[0m \u001b[1;32mfrom\u001b[0m \u001b[0mdistutils\u001b[0m\u001b[1;33m.\u001b[0m\u001b[0mversion\u001b[0m \u001b[1;32mimport\u001b[0m \u001b[0mLooseVersion\u001b[0m\u001b[1;33m\u001b[0m\u001b[0m\n",
      "\u001b[1;32m/data/rstudio/iberia/anaconda2/lib/python2.7/site-packages/matplotlib/pyplot.py\u001b[0m in \u001b[0;36m<module>\u001b[1;34m()\u001b[0m\n\u001b[0;32m    112\u001b[0m \u001b[1;33m\u001b[0m\u001b[0m\n\u001b[0;32m    113\u001b[0m \u001b[1;32mfrom\u001b[0m \u001b[0mmatplotlib\u001b[0m\u001b[1;33m.\u001b[0m\u001b[0mbackends\u001b[0m \u001b[1;32mimport\u001b[0m \u001b[0mpylab_setup\u001b[0m\u001b[1;33m\u001b[0m\u001b[0m\n\u001b[1;32m--> 114\u001b[1;33m \u001b[0m_backend_mod\u001b[0m\u001b[1;33m,\u001b[0m \u001b[0mnew_figure_manager\u001b[0m\u001b[1;33m,\u001b[0m \u001b[0mdraw_if_interactive\u001b[0m\u001b[1;33m,\u001b[0m \u001b[0m_show\u001b[0m \u001b[1;33m=\u001b[0m \u001b[0mpylab_setup\u001b[0m\u001b[1;33m(\u001b[0m\u001b[1;33m)\u001b[0m\u001b[1;33m\u001b[0m\u001b[0m\n\u001b[0m\u001b[0;32m    115\u001b[0m \u001b[1;33m\u001b[0m\u001b[0m\n\u001b[0;32m    116\u001b[0m \u001b[0m_IP_REGISTERED\u001b[0m \u001b[1;33m=\u001b[0m \u001b[0mNone\u001b[0m\u001b[1;33m\u001b[0m\u001b[0m\n",
      "\u001b[1;32m/data/rstudio/iberia/anaconda2/lib/python2.7/site-packages/matplotlib/backends/__init__.pyc\u001b[0m in \u001b[0;36mpylab_setup\u001b[1;34m()\u001b[0m\n\u001b[0;32m     30\u001b[0m     \u001b[1;31m# imports. 0 means only perform absolute imports.\u001b[0m\u001b[1;33m\u001b[0m\u001b[1;33m\u001b[0m\u001b[0m\n\u001b[0;32m     31\u001b[0m     backend_mod = __import__(backend_name,\n\u001b[1;32m---> 32\u001b[1;33m                              globals(),locals(),[backend_name],0)\n\u001b[0m\u001b[0;32m     33\u001b[0m \u001b[1;33m\u001b[0m\u001b[0m\n\u001b[0;32m     34\u001b[0m     \u001b[1;31m# Things we pull in from all backends\u001b[0m\u001b[1;33m\u001b[0m\u001b[1;33m\u001b[0m\u001b[0m\n",
      "\u001b[1;32m/data/rstudio/iberia/anaconda2/lib/python2.7/site-packages/matplotlib/backends/backend_tkagg.py\u001b[0m in \u001b[0;36m<module>\u001b[1;34m()\u001b[0m\n\u001b[0;32m      4\u001b[0m \u001b[1;33m\u001b[0m\u001b[0m\n\u001b[0;32m      5\u001b[0m \u001b[1;32mfrom\u001b[0m \u001b[0mmatplotlib\u001b[0m\u001b[1;33m.\u001b[0m\u001b[0mexternals\u001b[0m \u001b[1;32mimport\u001b[0m \u001b[0msix\u001b[0m\u001b[1;33m\u001b[0m\u001b[0m\n\u001b[1;32m----> 6\u001b[1;33m \u001b[1;32mfrom\u001b[0m \u001b[0mmatplotlib\u001b[0m\u001b[1;33m.\u001b[0m\u001b[0mexternals\u001b[0m\u001b[1;33m.\u001b[0m\u001b[0msix\u001b[0m\u001b[1;33m.\u001b[0m\u001b[0mmoves\u001b[0m \u001b[1;32mimport\u001b[0m \u001b[0mtkinter\u001b[0m \u001b[1;32mas\u001b[0m \u001b[0mTk\u001b[0m\u001b[1;33m\u001b[0m\u001b[0m\n\u001b[0m\u001b[0;32m      7\u001b[0m \u001b[1;32mfrom\u001b[0m \u001b[0mmatplotlib\u001b[0m\u001b[1;33m.\u001b[0m\u001b[0mexternals\u001b[0m\u001b[1;33m.\u001b[0m\u001b[0msix\u001b[0m\u001b[1;33m.\u001b[0m\u001b[0mmoves\u001b[0m \u001b[1;32mimport\u001b[0m \u001b[0mtkinter_filedialog\u001b[0m \u001b[1;32mas\u001b[0m \u001b[0mFileDialog\u001b[0m\u001b[1;33m\u001b[0m\u001b[0m\n\u001b[0;32m      8\u001b[0m \u001b[1;33m\u001b[0m\u001b[0m\n",
      "\u001b[1;32m/data/rstudio/iberia/anaconda2/lib/python2.7/site-packages/matplotlib/externals/six.pyc\u001b[0m in \u001b[0;36mload_module\u001b[1;34m(self, fullname)\u001b[0m\n\u001b[0;32m    197\u001b[0m         \u001b[0mmod\u001b[0m \u001b[1;33m=\u001b[0m \u001b[0mself\u001b[0m\u001b[1;33m.\u001b[0m\u001b[0m__get_module\u001b[0m\u001b[1;33m(\u001b[0m\u001b[0mfullname\u001b[0m\u001b[1;33m)\u001b[0m\u001b[1;33m\u001b[0m\u001b[0m\n\u001b[0;32m    198\u001b[0m         \u001b[1;32mif\u001b[0m \u001b[0misinstance\u001b[0m\u001b[1;33m(\u001b[0m\u001b[0mmod\u001b[0m\u001b[1;33m,\u001b[0m \u001b[0mMovedModule\u001b[0m\u001b[1;33m)\u001b[0m\u001b[1;33m:\u001b[0m\u001b[1;33m\u001b[0m\u001b[0m\n\u001b[1;32m--> 199\u001b[1;33m             \u001b[0mmod\u001b[0m \u001b[1;33m=\u001b[0m \u001b[0mmod\u001b[0m\u001b[1;33m.\u001b[0m\u001b[0m_resolve\u001b[0m\u001b[1;33m(\u001b[0m\u001b[1;33m)\u001b[0m\u001b[1;33m\u001b[0m\u001b[0m\n\u001b[0m\u001b[0;32m    200\u001b[0m         \u001b[1;32melse\u001b[0m\u001b[1;33m:\u001b[0m\u001b[1;33m\u001b[0m\u001b[0m\n\u001b[0;32m    201\u001b[0m             \u001b[0mmod\u001b[0m\u001b[1;33m.\u001b[0m\u001b[0m__loader__\u001b[0m \u001b[1;33m=\u001b[0m \u001b[0mself\u001b[0m\u001b[1;33m\u001b[0m\u001b[0m\n",
      "\u001b[1;32m/data/rstudio/iberia/anaconda2/lib/python2.7/site-packages/matplotlib/externals/six.pyc\u001b[0m in \u001b[0;36m_resolve\u001b[1;34m(self)\u001b[0m\n\u001b[0;32m    111\u001b[0m \u001b[1;33m\u001b[0m\u001b[0m\n\u001b[0;32m    112\u001b[0m     \u001b[1;32mdef\u001b[0m \u001b[0m_resolve\u001b[0m\u001b[1;33m(\u001b[0m\u001b[0mself\u001b[0m\u001b[1;33m)\u001b[0m\u001b[1;33m:\u001b[0m\u001b[1;33m\u001b[0m\u001b[0m\n\u001b[1;32m--> 113\u001b[1;33m         \u001b[1;32mreturn\u001b[0m \u001b[0m_import_module\u001b[0m\u001b[1;33m(\u001b[0m\u001b[0mself\u001b[0m\u001b[1;33m.\u001b[0m\u001b[0mmod\u001b[0m\u001b[1;33m)\u001b[0m\u001b[1;33m\u001b[0m\u001b[0m\n\u001b[0m\u001b[0;32m    114\u001b[0m \u001b[1;33m\u001b[0m\u001b[0m\n\u001b[0;32m    115\u001b[0m     \u001b[1;32mdef\u001b[0m \u001b[0m__getattr__\u001b[0m\u001b[1;33m(\u001b[0m\u001b[0mself\u001b[0m\u001b[1;33m,\u001b[0m \u001b[0mattr\u001b[0m\u001b[1;33m)\u001b[0m\u001b[1;33m:\u001b[0m\u001b[1;33m\u001b[0m\u001b[0m\n",
      "\u001b[1;32m/data/rstudio/iberia/anaconda2/lib/python2.7/site-packages/matplotlib/externals/six.pyc\u001b[0m in \u001b[0;36m_import_module\u001b[1;34m(name)\u001b[0m\n\u001b[0;32m     78\u001b[0m \u001b[1;32mdef\u001b[0m \u001b[0m_import_module\u001b[0m\u001b[1;33m(\u001b[0m\u001b[0mname\u001b[0m\u001b[1;33m)\u001b[0m\u001b[1;33m:\u001b[0m\u001b[1;33m\u001b[0m\u001b[0m\n\u001b[0;32m     79\u001b[0m     \u001b[1;34m\"\"\"Import module, returning the module after the last dot.\"\"\"\u001b[0m\u001b[1;33m\u001b[0m\u001b[0m\n\u001b[1;32m---> 80\u001b[1;33m     \u001b[0m__import__\u001b[0m\u001b[1;33m(\u001b[0m\u001b[0mname\u001b[0m\u001b[1;33m)\u001b[0m\u001b[1;33m\u001b[0m\u001b[0m\n\u001b[0m\u001b[0;32m     81\u001b[0m     \u001b[1;32mreturn\u001b[0m \u001b[0msys\u001b[0m\u001b[1;33m.\u001b[0m\u001b[0mmodules\u001b[0m\u001b[1;33m[\u001b[0m\u001b[0mname\u001b[0m\u001b[1;33m]\u001b[0m\u001b[1;33m\u001b[0m\u001b[0m\n\u001b[0;32m     82\u001b[0m \u001b[1;33m\u001b[0m\u001b[0m\n",
      "\u001b[1;32m/data/rstudio/iberia/anaconda2/lib/python2.7/lib-tk/Tkinter.py\u001b[0m in \u001b[0;36m<module>\u001b[1;34m()\u001b[0m\n\u001b[0;32m     37\u001b[0m     \u001b[1;31m# Attempt to configure Tcl/Tk without requiring PATH\u001b[0m\u001b[1;33m\u001b[0m\u001b[1;33m\u001b[0m\u001b[0m\n\u001b[0;32m     38\u001b[0m     \u001b[1;32mimport\u001b[0m \u001b[0mFixTk\u001b[0m\u001b[1;33m\u001b[0m\u001b[0m\n\u001b[1;32m---> 39\u001b[1;33m \u001b[1;32mimport\u001b[0m \u001b[0m_tkinter\u001b[0m \u001b[1;31m# If this fails your Python may not be configured for Tk\u001b[0m\u001b[1;33m\u001b[0m\u001b[0m\n\u001b[0m\u001b[0;32m     40\u001b[0m \u001b[0mtkinter\u001b[0m \u001b[1;33m=\u001b[0m \u001b[0m_tkinter\u001b[0m \u001b[1;31m# b/w compat for export\u001b[0m\u001b[1;33m\u001b[0m\u001b[0m\n\u001b[0;32m     41\u001b[0m \u001b[0mTclError\u001b[0m \u001b[1;33m=\u001b[0m \u001b[0m_tkinter\u001b[0m\u001b[1;33m.\u001b[0m\u001b[0mTclError\u001b[0m\u001b[1;33m\u001b[0m\u001b[0m\n",
      "\u001b[1;31mImportError\u001b[0m: /usr/lib64/libxcb-xlib.so.0: undefined symbol: _xcb_lock_io"
     ]
    }
   ],
   "source": [
    "import seaborn as sns\n",
    "import matplotlib.pyplot as plt"
   ]
  },
  {
   "cell_type": "code",
   "execution_count": 37,
   "metadata": {
    "collapsed": true
   },
   "outputs": [],
   "source": [
    "import pandas as pd\n",
    "import numpy as np\n",
    "import itertools\n",
    "import random\n",
    "import csv\n",
    "import json\n",
    "import re\n",
    "from sklearn import preprocessing\n",
    "from sklearn.ensemble import RandomForestClassifier\n",
    "from sklearn.feature_selection import SelectFromModel\n",
    "from sklearn.model_selection import cross_val_score,cross_val_predict\n",
    "from sklearn.model_selection import train_test_split\n",
    "from sklearn.model_selection import KFold\n",
    "from sklearn.metrics import r2_score,make_scorer\n",
    "from sklearn.metrics import accuracy_score\n",
    "from collections import Counter\n",
    "from sklearn.metrics import confusion_matrix"
   ]
  },
  {
   "cell_type": "code",
   "execution_count": 38,
   "metadata": {
    "collapsed": true
   },
   "outputs": [],
   "source": [
    "DATA_DIR = '/data/rstudio/iberia/data/'\n",
    "FEATURES = range(55,654) # con ss\n",
    "TARGET_COLS = ['CAT_BRONZE']"
   ]
  },
  {
   "cell_type": "code",
   "execution_count": 39,
   "metadata": {
    "collapsed": false
   },
   "outputs": [],
   "source": [
    "data = pd.read_csv(DATA_DIR + 'feature_matrix_extra_all_w_derivates_weightedaveragefinalSSperstore_def_binarybronze.csv',sep='|',index_col='CLIENT_ID',encoding='utf-8')"
   ]
  },
  {
   "cell_type": "code",
   "execution_count": 40,
   "metadata": {
    "collapsed": false
   },
   "outputs": [],
   "source": [
    "data = data[data.USABLE == True]"
   ]
  },
  {
   "cell_type": "markdown",
   "metadata": {},
   "source": [
    "## Data Preparation"
   ]
  },
  {
   "cell_type": "markdown",
   "metadata": {},
   "source": [
    "Convert all features to float and fill NAs in \\_CLOSEST variables "
   ]
  },
  {
   "cell_type": "code",
   "execution_count": 41,
   "metadata": {
    "collapsed": false
   },
   "outputs": [],
   "source": [
    "X_all = data[FEATURES]\n",
    "\n",
    "closest=list()\n",
    "ind=list()\n",
    "for i in range(X_all.columns.shape[0]):\n",
    "    if re.match('^.*_CLOSEST$',X_all.columns[i]) != None:\n",
    "        closest.append(i) \n",
    "    if re.match('^ind_.*',X_all.columns[i]) != None:\n",
    "        ind.append(i)\n",
    "\n",
    "# Fill NA (should be only in _closest) with the max value of _closest\n",
    "nan_cols_closest = X_all[closest].columns[pd.isnull(X_all[closest]).sum() > 0].tolist()\n",
    "max_mean = X_all[nan_cols_closest].max().mean()\n",
    "X_all.loc[:,nan_cols_closest] = X_all[nan_cols_closest].fillna(X_all[nan_cols_closest].max())\n",
    "X_all = X_all.astype(np.float)\n",
    "\n",
    "# Fill NA (should be only in ind_) with 0\n",
    "nan_cols_ind = X_all[ind].columns[pd.isnull(X_all[ind]).sum() > 0].tolist()\n",
    "X_all.loc[:,nan_cols_ind] = X_all[nan_cols_ind].fillna(0)\n",
    "X_all = X_all.astype(np.float)\n",
    "\n",
    "# Repare boolean variables\n",
    "X_all.loc[:,['IS_KIOSK','COAST','MEGA_CITY']] = X_all[['IS_KIOSK','COAST','MEGA_CITY']].astype('bool')"
   ]
  },
  {
   "cell_type": "markdown",
   "metadata": {},
   "source": [
    "Add TYPE_ESTABLISHMENT_NIELSEN"
   ]
  },
  {
   "cell_type": "code",
   "execution_count": 42,
   "metadata": {
    "collapsed": false
   },
   "outputs": [],
   "source": [
    "le_establ = preprocessing.LabelEncoder()\n",
    "le_establ.fit(data['TYPE_ESTABLISHMENT_NIELSEN'])\n",
    "X_all['TYPE_ESTABLISHMENT_NIELSEN'] = le_establ.transform(data.TYPE_ESTABLISHMENT_NIELSEN)"
   ]
  },
  {
   "cell_type": "code",
   "execution_count": 43,
   "metadata": {
    "collapsed": true
   },
   "outputs": [],
   "source": [
    "X_nielsen = X_all[data.IN_NIELSEN == True]\n",
    "Y_nielsen = data[data.IN_NIELSEN == True][TARGET_COLS]"
   ]
  },
  {
   "cell_type": "markdown",
   "metadata": {},
   "source": [
    "## Models definitions"
   ]
  },
  {
   "cell_type": "code",
   "execution_count": 44,
   "metadata": {
    "collapsed": true
   },
   "outputs": [],
   "source": [
    "rf_class = RandomForestClassifier(n_estimators=100, random_state=123)\n",
    "#rf_class = RandomForestClassifier(n_estimators=100, random_state=123, class_weight='balanced_subsample')\n",
    "#rf_class = RandomForestClassifier(n_estimators=100, random_state=123, class_weight={1: 0.2, 2: 0.5})\n",
    "kf = KFold(n_splits=10)"
   ]
  },
  {
   "cell_type": "markdown",
   "metadata": {},
   "source": [
    "## Functions"
   ]
  },
  {
   "cell_type": "markdown",
   "metadata": {},
   "source": [
    "__Feature Selection__"
   ]
  },
  {
   "cell_type": "code",
   "execution_count": 27,
   "metadata": {
    "collapsed": false
   },
   "outputs": [],
   "source": [
    "def feature_selection(X,Y,target_cols,model):\n",
    "    \n",
    "    features = dict()\n",
    "    features_all = dict()\n",
    "    names = X.columns.tolist()\n",
    "\n",
    "    for col in target_cols:    \n",
    "\n",
    "        y = Y[col]\n",
    "        #y = y[y < y.quantile(.95)]\n",
    "        X_pred = X.loc[y.index,:]\n",
    "        \n",
    "        #model.fit(X_pred,y,w)\n",
    "        model.fit(X_pred,y)\n",
    "\n",
    "        thres = 2*np.mean(model.feature_importances_)\n",
    "\n",
    "        features_tmp = []\n",
    "        features_tmp_all = sorted(zip(model.feature_importances_, names), reverse=True)\n",
    "        for imp,name in features_tmp_all:\n",
    "            if imp > thres:\n",
    "                features_tmp.append((imp,name))\n",
    "        \n",
    "        features[col] = features_tmp\n",
    "        features_all[col] = features_tmp_all\n",
    "    \n",
    "    return features, features_all"
   ]
  },
  {
   "cell_type": "code",
   "execution_count": 28,
   "metadata": {
    "collapsed": true
   },
   "outputs": [
    {
     "data": {
      "text/plain": [
       "{'CAT_BRONZE': [(0.070941644638310361, 'TYPE_ESTABLISHMENT_NIELSEN'),\n",
       "  (0.014006159766126314, u'LANGUAGE_SCHOOL_CLOSEST'),\n",
       "  (0.011349214061642078, u'FOODKIDS_CLOSEST'),\n",
       "  (0.010489020848390894, u'DRIVING_SCHOOL_CLOSEST'),\n",
       "  (0.010435401056536784, u'RAIL_STATION_CLOSEST'),\n",
       "  (0.010240337367545116, u'IS_KIOSK'),\n",
       "  (0.0099069749457466535, u'DRINKING_WATER_CLOSEST'),\n",
       "  (0.0098957915306923955, u'USERS_OVER50_022016'),\n",
       "  (0.0098466426312491286, u'VISITS_NOCHE_SUM'),\n",
       "  (0.0097462192084006964, u'SUBWAY_ENTRANCE_CLOSEST'),\n",
       "  (0.0097410576543069533, u'MUSIC_SCHOOL_CLOSEST'),\n",
       "  (0.0096607097158421477, u'GOLF_COURSE_CLOSEST'),\n",
       "  (0.0096425463441631824, u'ACCOMMODATION_CLOSEST'),\n",
       "  (0.0096201409866053262, u'PITCH_CLOSEST'),\n",
       "  (0.009594153070974068, u'TOURIST_ATTRACTION_CLOSEST'),\n",
       "  (0.0095796846456824986, u'PARKING_CLOSEST'),\n",
       "  (0.0094214969754085158, u'SCHOOL_CLOSEST'),\n",
       "  (0.009397177323811505, u'VISITS_NOCHE_062015'),\n",
       "  (0.0093421961340092955, u'SWIMMING_POOL_CLOSEST'),\n",
       "  (0.0093374523086541313, u'PLAYGROUND_CLOSEST'),\n",
       "  (0.0092736899754435193, u'MALE_30_39'),\n",
       "  (0.0092424988607894762, u'BENCH_CLOSEST'),\n",
       "  (0.0092117490603462037, u'BUS_STOP_CLOSEST'),\n",
       "  (0.0091314917078057483, u'VISITS_NOCHE_MEAN'),\n",
       "  (0.0091213334909056518, u'VISITS_NOCHE_MEDIAN'),\n",
       "  (0.0090710499732730727, u'SPORTS_CENTRE_CLOSEST'),\n",
       "  (0.0090460965144495142, u'USERS_NOCHE_MEDIAN'),\n",
       "  (0.0090034400692139884, u'MUSEUM_AND_GALLERY_CLOSEST'),\n",
       "  (0.0089886345017600386, u'UNIVERSITY_CLOSEST'),\n",
       "  (0.0089475520213212045, u'CAFE_CLOSEST'),\n",
       "  (0.0089085802434596285, u'RESTAURANT_CLOSEST'),\n",
       "  (0.0088861776680030057, u'VISITS_NOCHE_102015'),\n",
       "  (0.0087992017802320712, u'TOURIST_INFORMATION_CLOSEST'),\n",
       "  (0.0087790028945425262, u'PLACE_OF_WORSHIP_CLOSEST'),\n",
       "  (0.0086822813276048547, u'TAXI_CLOSEST'),\n",
       "  (0.0086321640929804475, u'USERS_NOCHE_102015'),\n",
       "  (0.0085966370190720572, u'USERS_NOCHE_SUM'),\n",
       "  (0.0085952809397903188, u'CINEMA_CLOSEST'),\n",
       "  (0.0085892814358096096, u'THEATRE_CLOSEST'),\n",
       "  (0.008589045626732324, u'VISITS_OVER50_SUM'),\n",
       "  (0.0085796282069439452, u'LIBRARY_CLOSEST'),\n",
       "  (0.0085556623515830651, u'COLLEGE_CLOSEST'),\n",
       "  (0.0085365513023649003, u'MALE_10_14'),\n",
       "  (0.0084781047413276245, u'FAST_FOOD_CLOSEST'),\n",
       "  (0.0084283383488377942, u'ZOO_AND_THEME_PARK_CLOSEST'),\n",
       "  (0.0084242688864925065, u'USERS_NOCHE_022016'),\n",
       "  (0.0084235442095089205, u'BUS_STATION_CLOSEST'),\n",
       "  (0.0084053945549940959, u'TOTAL_HOUSEHOLDS'),\n",
       "  (0.0083946057111273353, u'USERS_NOCHE_MEAN'),\n",
       "  (0.0083012875895339139, u'USERS_NOCHE_062015'),\n",
       "  (0.0081978393241710183, u'VISITS_NOCHE_022016'),\n",
       "  (0.0081588183174243507, u'MALE_50_59'),\n",
       "  (0.0081115463125863204, u'PARK_CLOSEST'),\n",
       "  (0.0081079838028032848, u'BAR_CLOSEST'),\n",
       "  (0.0080537465007392509, u'VISITS_NOCHE_082015'),\n",
       "  (0.0080230542780776338, u'MALE_5_9'),\n",
       "  (0.0080039091787828618, u'MALE_40_49'),\n",
       "  (0.0079895091206037844, u'MALE_15_17'),\n",
       "  (0.0079631460081230534, u'USERS_OVER50_SUM'),\n",
       "  (0.0079411048829827607, u'MALE_0_4'),\n",
       "  (0.0079113238561743082, u'USERS_OVER50_062015'),\n",
       "  (0.0078906825984694767, u'FEMALE_30_39'),\n",
       "  (0.0078844211621392716, u'FEMALE_10_14'),\n",
       "  (0.0078782831397561717, u'FEMALE_50_59'),\n",
       "  (0.0078669258340057242, u'VISITS_OVER50_022016'),\n",
       "  (0.0078658201790384845, u'VISITS_OVER50_MEDIAN'),\n",
       "  (0.0078306729167298382, u'MAIN_HOUSES'),\n",
       "  (0.0077884038441914634, u'FEMALE_5_9'),\n",
       "  (0.0077707474008392504, u'USERS_OVER50_MEDIAN'),\n",
       "  (0.0077674571123594084, u'USERS_OVER50_102015'),\n",
       "  (0.0077363970938793183, u'FEMALE_FROM_70'),\n",
       "  (0.0077253032176506234, u'TOTAL_MALE'),\n",
       "  (0.0077232729592654733, u'USERS_NOCHE_082015'),\n",
       "  (0.0077197577625058985, u'MALE_FROM_70'),\n",
       "  (0.0076642754291868041, u'FEMALE_18_29'),\n",
       "  (0.0076587478666040529, u'FEMALE_60_69'),\n",
       "  (0.0076355694300412292, u'FEMALE_TO_17'),\n",
       "  (0.0076284033338687995, u'EMPTY_HOUSES'),\n",
       "  (0.007611967736427863, u'MALE_18_29'),\n",
       "  (0.0076033166386112773, u'SECOND_HOUSES'),\n",
       "  (0.0075687909696375835, u'MALE_60_69'),\n",
       "  (0.0074643699889693936, u'USERS_OVER50_082015'),\n",
       "  (0.0074612163170883535, u'FEMALE_0_4'),\n",
       "  (0.007456564916101048, u'VISITS_OVER50_082015'),\n",
       "  (0.0074290733366064229, u'TOTAL_POPULATION'),\n",
       "  (0.0074274608850840862, u'FEMALE_15_17'),\n",
       "  (0.0074153096262338132, u'USERS_OVER50_MEAN'),\n",
       "  (0.0074148976807700429, u'MALE_TO_17'),\n",
       "  (0.0074072083017977285, u'VISITS_OVER50_102015'),\n",
       "  (0.0073489720150736789, u'TOTAL_FEMALE'),\n",
       "  (0.0072492757365380436, u'FEMALE_40_49'),\n",
       "  (0.0072301041676399334, u'VISITS_OVER50_MEAN'),\n",
       "  (0.0071892623979396527, u'BEACH_CLOSEST'),\n",
       "  (0.0071671950273002527, u'VISITS_OVER50_062015'),\n",
       "  (0.0058650515449174779, u'FOODKIDS_FAR'),\n",
       "  (0.0052877335665655377, u'FOODKIDS_CLOSE'),\n",
       "  (0.004678227575993817, u'BUS_STOP_FAR')],\n",
       " 'CAT_GOLD': [(0.025296582410178008, 'TYPE_ESTABLISHMENT_NIELSEN'),\n",
       "  (0.011748077963435912, u'MALE_0_4'),\n",
       "  (0.010739435254636123, u'PITCH_CLOSEST'),\n",
       "  (0.010658902289583659, u'SWIMMING_POOL_CLOSEST'),\n",
       "  (0.010509160160971682, u'ACCOMMODATION_CLOSEST'),\n",
       "  (0.010364255955107236, u'SPORTS_CENTRE_CLOSEST'),\n",
       "  (0.010067128700550619, u'PLAYGROUND_CLOSEST'),\n",
       "  (0.0099372181199692839, u'FEMALE_TO_17'),\n",
       "  (0.0099294737670278174, u'RAIL_STATION_CLOSEST'),\n",
       "  (0.0099145467041911739, u'TAXI_CLOSEST'),\n",
       "  (0.0098580282296657027, u'GOLF_COURSE_CLOSEST'),\n",
       "  (0.0098508267674843435, u'TOURIST_INFORMATION_CLOSEST'),\n",
       "  (0.0098466982190969568, u'RESTAURANT_CLOSEST'),\n",
       "  (0.0097915036649034743, u'FEMALE_5_9'),\n",
       "  (0.0097901101713301006, u'MUSEUM_AND_GALLERY_CLOSEST'),\n",
       "  (0.0097786548546551898, u'FEMALE_0_4'),\n",
       "  (0.009618554933644035, u'MAIN_HOUSES'),\n",
       "  (0.0094751897006405249, u'MALE_40_49'),\n",
       "  (0.0094739928936330917, u'FEMALE_30_39'),\n",
       "  (0.0094684676783919289, u'FAST_FOOD_CLOSEST'),\n",
       "  (0.0094682734055599807, u'LANGUAGE_SCHOOL_CLOSEST'),\n",
       "  (0.0094664205242491056, u'COLLEGE_CLOSEST'),\n",
       "  (0.0094596094183534291, u'SCHOOL_CLOSEST'),\n",
       "  (0.0094225995051853556, u'LIBRARY_CLOSEST'),\n",
       "  (0.0093808637496277155, u'BENCH_CLOSEST'),\n",
       "  (0.0093756593339045756, u'TOURIST_ATTRACTION_CLOSEST'),\n",
       "  (0.0093549234186426477, u'DRIVING_SCHOOL_CLOSEST'),\n",
       "  (0.0093221949901018189, u'DRINKING_WATER_CLOSEST'),\n",
       "  (0.0091783939196623948, u'PLACE_OF_WORSHIP_CLOSEST'),\n",
       "  (0.00914675810752613, u'MUSIC_SCHOOL_CLOSEST'),\n",
       "  (0.0090327735730441963, u'SUBWAY_ENTRANCE_CLOSEST'),\n",
       "  (0.0090038484532705618, u'MALE_FROM_70'),\n",
       "  (0.0089754119169802617, u'VISITS_OVER50_MEDIAN'),\n",
       "  (0.0089510899896789869, u'ZOO_AND_THEME_PARK_CLOSEST'),\n",
       "  (0.0089402345907053336, u'CINEMA_CLOSEST'),\n",
       "  (0.0089207207618327219, u'PARKING_CLOSEST'),\n",
       "  (0.0088829190225672757, u'THEATRE_CLOSEST'),\n",
       "  (0.0088544796320727988, u'MALE_30_39'),\n",
       "  (0.0088479226710034813, u'USERS_NOCHE_MEDIAN'),\n",
       "  (0.0087390108787707942, u'MALE_50_59'),\n",
       "  (0.0087382442231166736, u'FEMALE_10_14'),\n",
       "  (0.008716721608703475, u'BUS_STOP_CLOSEST'),\n",
       "  (0.008705196725493046, u'FOODKIDS_CLOSEST'),\n",
       "  (0.0087014302334833225, u'MALE_10_14'),\n",
       "  (0.0086454531256880789, u'VISITS_NOCHE_102015'),\n",
       "  (0.0086080149812570034, u'BUS_STATION_CLOSEST'),\n",
       "  (0.0085429368649869789, u'USERS_OVER50_MEDIAN'),\n",
       "  (0.0084804119003651403, u'FEMALE_40_49'),\n",
       "  (0.0084717005784097528, u'USERS_NOCHE_062015'),\n",
       "  (0.0084698612594585835, u'VISITS_NOCHE_SUM'),\n",
       "  (0.0084684303121320623, u'PARK_CLOSEST'),\n",
       "  (0.0084487336542485129, u'USERS_OVER50_MEAN'),\n",
       "  (0.008373592494127698, u'FEMALE_15_17'),\n",
       "  (0.0083466916496037265, u'FEMALE_60_69'),\n",
       "  (0.0083436180129011217, u'CAFE_CLOSEST'),\n",
       "  (0.0083395687815081207, u'MALE_5_9'),\n",
       "  (0.0083252691939419837, u'VISITS_NOCHE_022016'),\n",
       "  (0.0082910885280442544, u'MALE_18_29'),\n",
       "  (0.0082523539267193701, u'VISITS_OVER50_SUM'),\n",
       "  (0.0082314652291292749, u'USERS_OVER50_SUM'),\n",
       "  (0.008226662635778436, u'USERS_NOCHE_082015'),\n",
       "  (0.0082133400882114811, u'VISITS_OVER50_062015'),\n",
       "  (0.0081986247920328558, u'VISITS_NOCHE_MEDIAN'),\n",
       "  (0.0081217871209158816, u'USERS_OVER50_062015'),\n",
       "  (0.0081134863454159229, u'USERS_NOCHE_MEAN'),\n",
       "  (0.0081083176119266902, u'TOTAL_POPULATION'),\n",
       "  (0.0080951028324572592, u'BAR_CLOSEST'),\n",
       "  (0.0080178414547533213, u'EMPTY_HOUSES'),\n",
       "  (0.007977844129051859, u'UNIVERSITY_CLOSEST'),\n",
       "  (0.0079069424603747402, u'USERS_NOCHE_102015'),\n",
       "  (0.0078853011729272324, u'TOTAL_HOUSEHOLDS'),\n",
       "  (0.0078497738914059517, u'VISITS_NOCHE_062015'),\n",
       "  (0.007847227471069031, u'MALE_15_17'),\n",
       "  (0.0078366168309229774, u'VISITS_OVER50_MEAN'),\n",
       "  (0.0077683322914926627, u'VISITS_OVER50_102015'),\n",
       "  (0.0077303148488830301, u'USERS_NOCHE_022016'),\n",
       "  (0.0076644366059911428, u'USERS_OVER50_102015'),\n",
       "  (0.0076525345929289394, u'FEMALE_18_29'),\n",
       "  (0.0076434404943922351, u'SECOND_HOUSES'),\n",
       "  (0.0076291328553466263, u'USERS_NOCHE_SUM'),\n",
       "  (0.0075731654610473329, u'MALE_TO_17'),\n",
       "  (0.007491400528832853, u'USERS_OVER50_082015'),\n",
       "  (0.0074903345041925883, u'VISITS_NOCHE_082015'),\n",
       "  (0.0074652690031706496, u'VISITS_OVER50_082015'),\n",
       "  (0.007439262840917945, u'FEMALE_50_59'),\n",
       "  (0.0073823889796402068, u'FEMALE_FROM_70'),\n",
       "  (0.0073176137546947552, u'USERS_OVER50_022016'),\n",
       "  (0.0072282665818540351, u'VISITS_OVER50_022016'),\n",
       "  (0.0071191855849993746, u'VISITS_NOCHE_MEAN'),\n",
       "  (0.0071083870263997139, u'MALE_60_69'),\n",
       "  (0.0070587403555494596, u'TOTAL_FEMALE'),\n",
       "  (0.0069878780485877392, u'FOODKIDS_FAR'),\n",
       "  (0.0069235542192417534, u'TOTAL_MALE'),\n",
       "  (0.0054939424451172572, u'BUS_STOP_FAR'),\n",
       "  (0.0051558193809870959, u'BEACH_CLOSEST'),\n",
       "  (0.0047750417365497073, u'RESTAURANT_FAR'),\n",
       "  (0.0040253431992500616, u'FOODKIDS_CLOSE'),\n",
       "  (0.0038539855467903191, u'DRINKING_WATER_FAR'),\n",
       "  (0.0034995847380614592, u'BUS_STOP_CLOSE'),\n",
       "  (0.0034414467535224956, u'PLAYGROUND_FAR')],\n",
       " 'CAT_SILVER': [(0.050117716280754149, 'TYPE_ESTABLISHMENT_NIELSEN'),\n",
       "  (0.011360902322647299, u'FOODKIDS_CLOSEST'),\n",
       "  (0.010520861818849998, u'LANGUAGE_SCHOOL_CLOSEST'),\n",
       "  (0.010272864537470535, u'BUS_STOP_CLOSEST'),\n",
       "  (0.010053735982645839, u'DRINKING_WATER_CLOSEST'),\n",
       "  (0.0099998768984609025, u'LIBRARY_CLOSEST'),\n",
       "  (0.0099883925289726352, u'CAFE_CLOSEST'),\n",
       "  (0.0099739349351749343, u'BENCH_CLOSEST'),\n",
       "  (0.0098486165970602703, u'MUSEUM_AND_GALLERY_CLOSEST'),\n",
       "  (0.0098461175796399555, u'SPORTS_CENTRE_CLOSEST'),\n",
       "  (0.0098336235583173452, u'ACCOMMODATION_CLOSEST'),\n",
       "  (0.0097969483179952601, u'GOLF_COURSE_CLOSEST'),\n",
       "  (0.009782963965384887, u'PARKING_CLOSEST'),\n",
       "  (0.0097826676708584123, u'PITCH_CLOSEST'),\n",
       "  (0.0097826566038679164, u'RESTAURANT_CLOSEST'),\n",
       "  (0.0097248726568739691, u'SCHOOL_CLOSEST'),\n",
       "  (0.0096537095634507356, u'THEATRE_CLOSEST'),\n",
       "  (0.009640952943806385, u'FAST_FOOD_CLOSEST'),\n",
       "  (0.0095921703481773, u'TOURIST_ATTRACTION_CLOSEST'),\n",
       "  (0.0095847906988670867, u'SWIMMING_POOL_CLOSEST'),\n",
       "  (0.0095750568239828908, u'PLAYGROUND_CLOSEST'),\n",
       "  (0.0094899637573235222, u'TAXI_CLOSEST'),\n",
       "  (0.0094895622575714659, u'USERS_OVER50_022016'),\n",
       "  (0.0094856518309301315, u'RAIL_STATION_CLOSEST'),\n",
       "  (0.0093522803608297334, u'FEMALE_FROM_70'),\n",
       "  (0.0092706276209063073, u'USERS_OVER50_102015'),\n",
       "  (0.0092615142875540173, u'PARK_CLOSEST'),\n",
       "  (0.0091280129458327017, u'CINEMA_CLOSEST'),\n",
       "  (0.0091205435508714891, u'PLACE_OF_WORSHIP_CLOSEST'),\n",
       "  (0.0090749748899997679, u'DRIVING_SCHOOL_CLOSEST'),\n",
       "  (0.0090571481429589269, u'TOURIST_INFORMATION_CLOSEST'),\n",
       "  (0.009015676256750909, u'ZOO_AND_THEME_PARK_CLOSEST'),\n",
       "  (0.0090099006657627882, u'USERS_NOCHE_MEDIAN'),\n",
       "  (0.0089928314573006936, u'USERS_NOCHE_022016'),\n",
       "  (0.0089919555853887109, u'MALE_30_39'),\n",
       "  (0.0089784609352563487, u'SUBWAY_ENTRANCE_CLOSEST'),\n",
       "  (0.0088559510531551824, u'COLLEGE_CLOSEST'),\n",
       "  (0.0087964490404633736, u'VISITS_NOCHE_SUM'),\n",
       "  (0.0087904471577283805, u'VISITS_NOCHE_MEAN'),\n",
       "  (0.0087812544760868493, u'FEMALE_30_39'),\n",
       "  (0.0087461273100946542, u'USERS_NOCHE_102015'),\n",
       "  (0.0087319797251114613, u'UNIVERSITY_CLOSEST'),\n",
       "  (0.0087170412338856834, u'BUS_STATION_CLOSEST'),\n",
       "  (0.0086962496179105748, u'MALE_FROM_70'),\n",
       "  (0.0086731924488964943, u'USERS_NOCHE_MEAN'),\n",
       "  (0.0086662777016019519, u'TOTAL_HOUSEHOLDS'),\n",
       "  (0.0086644560577890314, u'USERS_OVER50_062015'),\n",
       "  (0.0086363092389538584, u'EMPTY_HOUSES'),\n",
       "  (0.0085260873239100463, u'VISITS_OVER50_102015'),\n",
       "  (0.0085032934519429244, u'BAR_CLOSEST'),\n",
       "  (0.0084951639527793294, u'USERS_NOCHE_SUM'),\n",
       "  (0.0084701847747662012, u'USERS_OVER50_SUM'),\n",
       "  (0.0084098147084481698, u'VISITS_NOCHE_MEDIAN'),\n",
       "  (0.0083921184797334496, u'VISITS_NOCHE_082015'),\n",
       "  (0.0083904216103531867, u'MALE_18_29'),\n",
       "  (0.008345582424526243, u'VISITS_OVER50_MEDIAN'),\n",
       "  (0.0083316294415590308, u'MALE_60_69'),\n",
       "  (0.0083256633871571731, u'MALE_40_49'),\n",
       "  (0.0083142379144697156, u'VISITS_OVER50_022016'),\n",
       "  (0.0083044535790768818, u'VISITS_OVER50_SUM'),\n",
       "  (0.0082540109154197305, u'VISITS_OVER50_MEAN'),\n",
       "  (0.0082360772821139343, u'FEMALE_5_9'),\n",
       "  (0.0082187427860181701, u'USERS_OVER50_082015'),\n",
       "  (0.0082157079516609471, u'USERS_NOCHE_082015'),\n",
       "  (0.0081459060097867214, u'VISITS_NOCHE_022016'),\n",
       "  (0.0081453635724076153, u'VISITS_NOCHE_102015'),\n",
       "  (0.0080932292098020667, u'USERS_OVER50_MEAN'),\n",
       "  (0.0080801471585826463, u'TOTAL_POPULATION'),\n",
       "  (0.0080732967178224653, u'MUSIC_SCHOOL_CLOSEST'),\n",
       "  (0.0080465895070147755, u'MAIN_HOUSES'),\n",
       "  (0.0080323841332653433, u'VISITS_OVER50_062015'),\n",
       "  (0.0080221723976629366, u'USERS_NOCHE_062015'),\n",
       "  (0.0080027259054101848, u'FEMALE_0_4'),\n",
       "  (0.0079832076769224963, u'USERS_OVER50_MEDIAN'),\n",
       "  (0.007980894199024079, u'SECOND_HOUSES'),\n",
       "  (0.0079803657560916213, u'FEMALE_60_69'),\n",
       "  (0.0079364266781195465, u'FEMALE_TO_17'),\n",
       "  (0.0079328551266321986, u'MALE_TO_17'),\n",
       "  (0.0079069684361150611, u'MALE_15_17'),\n",
       "  (0.0079047901538317582, u'VISITS_NOCHE_062015'),\n",
       "  (0.0078690635629370519, u'MALE_10_14'),\n",
       "  (0.0078414676373017005, u'FEMALE_10_14'),\n",
       "  (0.0078280768719332164, u'FEMALE_18_29'),\n",
       "  (0.0077708728587516348, u'FEMALE_15_17'),\n",
       "  (0.007735400459136392, u'FEMALE_50_59'),\n",
       "  (0.0077254151466297997, u'FEMALE_40_49'),\n",
       "  (0.0077047927975935461, u'VISITS_OVER50_082015'),\n",
       "  (0.007648001503038895, u'TOTAL_FEMALE'),\n",
       "  (0.0076422180708469647, u'MALE_0_4'),\n",
       "  (0.0074941869510869756, u'MALE_5_9'),\n",
       "  (0.00746643817659966, u'MALE_50_59'),\n",
       "  (0.0073101333158751411, u'TOTAL_MALE'),\n",
       "  (0.0066349018186179186, u'IS_KIOSK'),\n",
       "  (0.0061077129782186757, u'FOODKIDS_FAR'),\n",
       "  (0.0057884753390062601, u'BEACH_CLOSEST'),\n",
       "  (0.0047416484751752848, u'BUS_STOP_FAR'),\n",
       "  (0.0046181368886739176, u'FOODKIDS_CLOSE'),\n",
       "  (0.0035291856763402323, u'SCHOOL_FAR'),\n",
       "  (0.0034594464939715227, u'RESTAURANT_FAR')]}"
      ]
     },
     "execution_count": 28,
     "metadata": {},
     "output_type": "execute_result"
    }
   ],
   "source": [
    "features_rel, features_rel_all = feature_selection(X_nielsen,Y_nielsen,TARGET_COLS,rf_class,)\n",
    "features_rel"
   ]
  },
  {
   "cell_type": "code",
   "execution_count": 44,
   "metadata": {
    "collapsed": true
   },
   "outputs": [],
   "source": [
    "with open(DATA_DIR + 'features_importance_POS_category_classification_all_weight.json', 'w') as fp:\n",
    "    json.dump(features_rel_all, fp)"
   ]
  },
  {
   "cell_type": "markdown",
   "metadata": {},
   "source": [
    "__Classification__"
   ]
  },
  {
   "cell_type": "code",
   "execution_count": 45,
   "metadata": {
    "collapsed": true
   },
   "outputs": [],
   "source": [
    "def category_classification_score(X,Y,target_cols,model,features=False,cv=kf):\n",
    "    \n",
    "    scores = dict()\n",
    "\n",
    "    for col in target_cols:\n",
    "        print col\n",
    "\n",
    "        y = Y[col]\n",
    "        #y = y[y < y.quantile(.95)]\n",
    "        X_pred = X.loc[y.index,:]\n",
    "\n",
    "        if features != False:\n",
    "            feat = [f[1] for f in features[col]]\n",
    "            X_pred = X_pred[feat]    \n",
    "\n",
    "        #scores[col] = cross_val_score(model, X_pred, y, cv=cv, fit_params={'sample_weight': w})\n",
    "        scores[col] = cross_val_score(model, X_pred, y, cv=cv)\n",
    "        \n",
    "        print scores[col]\n",
    "        print np.mean(scores[col])\n",
    "    \n",
    "    return scores"
   ]
  },
  {
   "cell_type": "code",
   "execution_count": 46,
   "metadata": {
    "collapsed": false
   },
   "outputs": [
    {
     "name": "stdout",
     "output_type": "stream",
     "text": [
      "CAT_BRONZE\n",
      "[ 0.59036145  0.5873494   0.6214178   0.61689291  0.61387632  0.53242836\n",
      "  0.54600302  0.58823529  0.53846154  0.56561086]\n",
      "0.580063693689\n"
     ]
    }
   ],
   "source": [
    "class_scores = category_classification_score(X_nielsen,Y_nielsen,TARGET_COLS,rf_class,cv=kf)"
   ]
  },
  {
   "cell_type": "markdown",
   "metadata": {},
   "source": [
    "__Predicciones__"
   ]
  },
  {
   "cell_type": "code",
   "execution_count": 12,
   "metadata": {
    "collapsed": true
   },
   "outputs": [],
   "source": [
    "def category_classification_prediction(X_train,Y_train,X_test,Y_test,target_cols,model,features=False):\n",
    "    \n",
    "    targets = dict()\n",
    "    preds = dict()\n",
    "    \n",
    "    for col in target_cols:\n",
    "        \n",
    "        print col\n",
    "        \n",
    "        y = Y_train[col]\n",
    "        #y = y[y < y.quantile(.95)]\n",
    "        X_pred = X_train.loc[y.index,:]\n",
    "              \n",
    "        X_test_aux = X_test\n",
    "\n",
    "        if features != False:\n",
    "            feat = [f[1] for f in features[col]]\n",
    "            X_pred = X_pred[feat]\n",
    "            X_test_aux = X_test[feat]\n",
    "            \n",
    "        #model.fit(X_pred,y,w)\n",
    "        model.fit(X_pred,y)\n",
    "        \n",
    "        targets[col] = Y_test[col]\n",
    "        preds[col] = model.predict(X_test_aux)\n",
    "    \n",
    "    return targets,preds"
   ]
  },
  {
   "cell_type": "code",
   "execution_count": 163,
   "metadata": {
    "collapsed": false
   },
   "outputs": [],
   "source": [
    "data_topredict = pd.read_csv(DATA_DIR + 'feature_matrix_extra_all_w_derivates_weightedaveragefinalSSperstore_def.csv',sep='|',index_col='CLIENT_ID',encoding='utf-8')\n",
    "\n",
    "data_topredict = data_topredict[data_topredict.USABLE == True]\n",
    "\n",
    "X_topredict = data_topredict[FEATURES]\n",
    "Y_topredict = data_topredict[TARGET_COLS]\n",
    "\n",
    "closest=list()\n",
    "ind=list()\n",
    "for i in range(X_topredict.columns.shape[0]):\n",
    "    if re.match('^.*_CLOSEST$',X_topredict.columns[i]) != None:\n",
    "        closest.append(i) \n",
    "    if re.match('^ind_.*',X_topredict.columns[i]) != None:\n",
    "        ind.append(i)\n",
    "\n",
    "# Fill NA (should be only in _closest) with the mean max value of _closest\n",
    "nan_cols_closest = X_topredict[closest].columns[pd.isnull(X_topredict[closest]).sum() > 0].tolist()\n",
    "max_mean = X_topredict[nan_cols_closest].max().mean()\n",
    "X_topredict.loc[:,nan_cols_closest] = X_topredict[nan_cols_closest].fillna(X_topredict[nan_cols_closest].max())\n",
    "X_topredict = X_topredict.astype(np.float)\n",
    "\n",
    "# Fill NA (should be only in ind_) with 0\n",
    "nan_cols_ind = X_topredict[ind].columns[pd.isnull(X_topredict[ind]).sum() > 0].tolist()\n",
    "X_topredict.loc[:,nan_cols_ind] = X_topredict[nan_cols_ind].fillna(0)\n",
    "X_topredict = X_topredict.astype(np.float)\n",
    "\n",
    "# Repare boolean variables\n",
    "X_topredict.loc[:,['IS_KIOSK','COAST','MEGA_CITY']] = X_topredict[['IS_KIOSK','COAST','MEGA_CITY']].astype('bool')\n",
    "\n",
    "# Add TYPE ESTABLISHMENT\n",
    "le_establ = preprocessing.LabelEncoder()\n",
    "le_establ.fit(data_topredict['TYPE_ESTABLISHMENT_NIELSEN'])\n",
    "X_topredict['TYPE_ESTABLISHMENT_NIELSEN'] = le_establ.transform(data_topredict.TYPE_ESTABLISHMENT_NIELSEN)"
   ]
  },
  {
   "cell_type": "code",
   "execution_count": null,
   "metadata": {
    "collapsed": true
   },
   "outputs": [],
   "source": [
    "targets,preds = category_classification_prediction(X_nielsen,Y_nielsen,X_topredict,Y_topredict,TARGET_COLS,rf_class)\n",
    "Y_pred = pd.DataFrame(preds)\n",
    "Y_pred.index = X_topredict.index\n",
    "Y_pred.columns = [x + '_pred' for x in Y_pred.columns.tolist()]\n",
    "Y_pred.join(Y_topredict).to_csv(DATA_DIR + 'POS_category_classification_prediction_all_weight.csv',sep=';',encoding='utf-8')"
   ]
  },
  {
   "cell_type": "code",
   "execution_count": 77,
   "metadata": {
    "collapsed": true
   },
   "outputs": [],
   "source": [
    "for col in TARGET_COLS:\n",
    "    data_topredict.loc[targets[col].index,col + '_pred'] = preds[col]"
   ]
  },
  {
   "cell_type": "code",
   "execution_count": 78,
   "metadata": {
    "collapsed": true
   },
   "outputs": [
    {
     "name": "stdout",
     "output_type": "stream",
     "text": [
      "TOTAL_CHIPS_LESS_50\n",
      "0.107432147647\n",
      "TOTAL_CHIPS_MORE_50\n",
      "0.30273039743\n",
      "TOTAL_SNACKS_LESS_50\n",
      "0.257690411939\n",
      "TOTAL_SNACKS_MORE_50\n",
      "0.214973831111\n"
     ]
    }
   ],
   "source": [
    "for col in TARGET_COLS:\n",
    "    print col\n",
    "    results = data_topredict[data_topredict[col].notnull()][[col,col + '_pred']]\n",
    "    print r2_score(results[col],results[col + '_pred'])\n",
    "    results = results.sort_values(col)"
   ]
  },
  {
   "cell_type": "code",
   "execution_count": null,
   "metadata": {
    "collapsed": true
   },
   "outputs": [],
   "source": [
    "def classification_cross_val_predict(X,Y,target_cols,model,features=False,cv=kf):\n",
    "    \n",
    "    targets = dict()\n",
    "    preds = dict()\n",
    "    \n",
    "    for col in target_cols:\n",
    "        \n",
    "        print col\n",
    "\n",
    "        y = Y[col]\n",
    "        #y = y[y < y.quantile(.95)]\n",
    "        X_pred = X.loc[y.index,:]\n",
    "        \n",
    "        if features != False:\n",
    "            feat = [f[1] for f in features[col]]\n",
    "            X_pred = X_pred[feat]\n",
    "                \n",
    "        targets[col] = y\n",
    "        preds[col] = cross_val_predict(model, X_pred, y, cv=cv, fit_params={'sample_weight': w})\n",
    "        #preds[col] = cross_val_predict(model, X_pred, y, cv=cv)\n",
    "\n",
    "    return targets,preds"
   ]
  },
  {
   "cell_type": "code",
   "execution_count": null,
   "metadata": {
    "collapsed": true
   },
   "outputs": [],
   "source": [
    "targets,preds = classification_cross_val_predict(X_nielsen,Y_nielsen,TARGET_COLS,rf_class,cv=kf)\n",
    "Y_pred = pd.DataFrame(preds)\n",
    "Y_pred.index = X_nielsen.index\n",
    "Y_pred.columns = [x + '_pred' for x in Y_pred.columns.tolist()]\n",
    "Y_pred.join(Y_nielsen).to_csv(DATA_DIR + 'POS_category_classification_prediction_all_weight_w_cross_valid.csv',sep=';',encoding='utf-8')"
   ]
  }
 ],
 "metadata": {
  "anaconda-cloud": {},
  "kernelspec": {
   "display_name": "Python [Root]",
   "language": "python",
   "name": "Python [Root]"
  },
  "language_info": {
   "codemirror_mode": {
    "name": "ipython",
    "version": 2
   },
   "file_extension": ".py",
   "mimetype": "text/x-python",
   "name": "python",
   "nbconvert_exporter": "python",
   "pygments_lexer": "ipython2",
   "version": "2.7.12"
  }
 },
 "nbformat": 4,
 "nbformat_minor": 0
}
