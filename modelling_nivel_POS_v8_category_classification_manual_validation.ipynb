{
 "cells": [
  {
   "cell_type": "code",
   "execution_count": 1,
   "metadata": {
    "collapsed": true
   },
   "outputs": [
    {
     "ename": "ImportError",
     "evalue": "/usr/lib64/libxcb-xlib.so.0: undefined symbol: _xcb_lock_io",
     "output_type": "error",
     "traceback": [
      "\u001b[1;31m---------------------------------------------------------------------------\u001b[0m",
      "\u001b[1;31mImportError\u001b[0m                               Traceback (most recent call last)",
      "\u001b[1;32m<ipython-input-1-a1e6222ba10f>\u001b[0m in \u001b[0;36m<module>\u001b[1;34m()\u001b[0m\n\u001b[1;32m----> 1\u001b[1;33m \u001b[1;32mimport\u001b[0m \u001b[0mseaborn\u001b[0m \u001b[1;32mas\u001b[0m \u001b[0msns\u001b[0m\u001b[1;33m\u001b[0m\u001b[0m\n\u001b[0m\u001b[0;32m      2\u001b[0m \u001b[1;32mimport\u001b[0m \u001b[0mmatplotlib\u001b[0m\u001b[1;33m.\u001b[0m\u001b[0mpyplot\u001b[0m \u001b[1;32mas\u001b[0m \u001b[0mplt\u001b[0m\u001b[1;33m\u001b[0m\u001b[0m\n",
      "\u001b[1;32m/data/rstudio/iberia/anaconda2/lib/python2.7/site-packages/seaborn/__init__.py\u001b[0m in \u001b[0;36m<module>\u001b[1;34m()\u001b[0m\n\u001b[0;32m      4\u001b[0m \u001b[1;33m\u001b[0m\u001b[0m\n\u001b[0;32m      5\u001b[0m \u001b[1;31m# Import seaborn objects\u001b[0m\u001b[1;33m\u001b[0m\u001b[1;33m\u001b[0m\u001b[0m\n\u001b[1;32m----> 6\u001b[1;33m \u001b[1;32mfrom\u001b[0m \u001b[1;33m.\u001b[0m\u001b[0mrcmod\u001b[0m \u001b[1;32mimport\u001b[0m \u001b[1;33m*\u001b[0m\u001b[1;33m\u001b[0m\u001b[0m\n\u001b[0m\u001b[0;32m      7\u001b[0m \u001b[1;32mfrom\u001b[0m \u001b[1;33m.\u001b[0m\u001b[0mutils\u001b[0m \u001b[1;32mimport\u001b[0m \u001b[1;33m*\u001b[0m\u001b[1;33m\u001b[0m\u001b[0m\n\u001b[0;32m      8\u001b[0m \u001b[1;32mfrom\u001b[0m \u001b[1;33m.\u001b[0m\u001b[0mpalettes\u001b[0m \u001b[1;32mimport\u001b[0m \u001b[1;33m*\u001b[0m\u001b[1;33m\u001b[0m\u001b[0m\n",
      "\u001b[1;32m/data/rstudio/iberia/anaconda2/lib/python2.7/site-packages/seaborn/rcmod.py\u001b[0m in \u001b[0;36m<module>\u001b[1;34m()\u001b[0m\n\u001b[0;32m      6\u001b[0m \u001b[1;32mimport\u001b[0m \u001b[0mmatplotlib\u001b[0m \u001b[1;32mas\u001b[0m \u001b[0mmpl\u001b[0m\u001b[1;33m\u001b[0m\u001b[0m\n\u001b[0;32m      7\u001b[0m \u001b[1;33m\u001b[0m\u001b[0m\n\u001b[1;32m----> 8\u001b[1;33m \u001b[1;32mfrom\u001b[0m \u001b[1;33m.\u001b[0m \u001b[1;32mimport\u001b[0m \u001b[0mpalettes\u001b[0m\u001b[1;33m,\u001b[0m \u001b[0m_orig_rc_params\u001b[0m\u001b[1;33m\u001b[0m\u001b[0m\n\u001b[0m\u001b[0;32m      9\u001b[0m \u001b[1;33m\u001b[0m\u001b[0m\n\u001b[0;32m     10\u001b[0m \u001b[1;33m\u001b[0m\u001b[0m\n",
      "\u001b[1;32m/data/rstudio/iberia/anaconda2/lib/python2.7/site-packages/seaborn/palettes.py\u001b[0m in \u001b[0;36m<module>\u001b[1;34m()\u001b[0m\n\u001b[0;32m     10\u001b[0m \u001b[1;32mfrom\u001b[0m \u001b[1;33m.\u001b[0m\u001b[0mexternal\u001b[0m\u001b[1;33m.\u001b[0m\u001b[0msix\u001b[0m\u001b[1;33m.\u001b[0m\u001b[0mmoves\u001b[0m \u001b[1;32mimport\u001b[0m \u001b[0mrange\u001b[0m\u001b[1;33m\u001b[0m\u001b[0m\n\u001b[0;32m     11\u001b[0m \u001b[1;33m\u001b[0m\u001b[0m\n\u001b[1;32m---> 12\u001b[1;33m \u001b[1;32mfrom\u001b[0m \u001b[1;33m.\u001b[0m\u001b[0mutils\u001b[0m \u001b[1;32mimport\u001b[0m \u001b[0mdesaturate\u001b[0m\u001b[1;33m,\u001b[0m \u001b[0mset_hls_values\u001b[0m\u001b[1;33m,\u001b[0m \u001b[0mget_color_cycle\u001b[0m\u001b[1;33m\u001b[0m\u001b[0m\n\u001b[0m\u001b[0;32m     13\u001b[0m \u001b[1;32mfrom\u001b[0m \u001b[1;33m.\u001b[0m\u001b[0mxkcd_rgb\u001b[0m \u001b[1;32mimport\u001b[0m \u001b[0mxkcd_rgb\u001b[0m\u001b[1;33m\u001b[0m\u001b[0m\n\u001b[0;32m     14\u001b[0m \u001b[1;32mfrom\u001b[0m \u001b[1;33m.\u001b[0m\u001b[0mcrayons\u001b[0m \u001b[1;32mimport\u001b[0m \u001b[0mcrayons\u001b[0m\u001b[1;33m\u001b[0m\u001b[0m\n",
      "\u001b[1;32m/data/rstudio/iberia/anaconda2/lib/python2.7/site-packages/seaborn/utils.py\u001b[0m in \u001b[0;36m<module>\u001b[1;34m()\u001b[0m\n\u001b[0;32m     10\u001b[0m \u001b[1;32mimport\u001b[0m \u001b[0mmatplotlib\u001b[0m \u001b[1;32mas\u001b[0m \u001b[0mmpl\u001b[0m\u001b[1;33m\u001b[0m\u001b[0m\n\u001b[0;32m     11\u001b[0m \u001b[1;32mimport\u001b[0m \u001b[0mmatplotlib\u001b[0m\u001b[1;33m.\u001b[0m\u001b[0mcolors\u001b[0m \u001b[1;32mas\u001b[0m \u001b[0mmplcol\u001b[0m\u001b[1;33m\u001b[0m\u001b[0m\n\u001b[1;32m---> 12\u001b[1;33m \u001b[1;32mimport\u001b[0m \u001b[0mmatplotlib\u001b[0m\u001b[1;33m.\u001b[0m\u001b[0mpyplot\u001b[0m \u001b[1;32mas\u001b[0m \u001b[0mplt\u001b[0m\u001b[1;33m\u001b[0m\u001b[0m\n\u001b[0m\u001b[0;32m     13\u001b[0m \u001b[1;33m\u001b[0m\u001b[0m\n\u001b[0;32m     14\u001b[0m \u001b[1;32mfrom\u001b[0m \u001b[0mdistutils\u001b[0m\u001b[1;33m.\u001b[0m\u001b[0mversion\u001b[0m \u001b[1;32mimport\u001b[0m \u001b[0mLooseVersion\u001b[0m\u001b[1;33m\u001b[0m\u001b[0m\n",
      "\u001b[1;32m/data/rstudio/iberia/anaconda2/lib/python2.7/site-packages/matplotlib/pyplot.py\u001b[0m in \u001b[0;36m<module>\u001b[1;34m()\u001b[0m\n\u001b[0;32m    112\u001b[0m \u001b[1;33m\u001b[0m\u001b[0m\n\u001b[0;32m    113\u001b[0m \u001b[1;32mfrom\u001b[0m \u001b[0mmatplotlib\u001b[0m\u001b[1;33m.\u001b[0m\u001b[0mbackends\u001b[0m \u001b[1;32mimport\u001b[0m \u001b[0mpylab_setup\u001b[0m\u001b[1;33m\u001b[0m\u001b[0m\n\u001b[1;32m--> 114\u001b[1;33m \u001b[0m_backend_mod\u001b[0m\u001b[1;33m,\u001b[0m \u001b[0mnew_figure_manager\u001b[0m\u001b[1;33m,\u001b[0m \u001b[0mdraw_if_interactive\u001b[0m\u001b[1;33m,\u001b[0m \u001b[0m_show\u001b[0m \u001b[1;33m=\u001b[0m \u001b[0mpylab_setup\u001b[0m\u001b[1;33m(\u001b[0m\u001b[1;33m)\u001b[0m\u001b[1;33m\u001b[0m\u001b[0m\n\u001b[0m\u001b[0;32m    115\u001b[0m \u001b[1;33m\u001b[0m\u001b[0m\n\u001b[0;32m    116\u001b[0m \u001b[0m_IP_REGISTERED\u001b[0m \u001b[1;33m=\u001b[0m \u001b[0mNone\u001b[0m\u001b[1;33m\u001b[0m\u001b[0m\n",
      "\u001b[1;32m/data/rstudio/iberia/anaconda2/lib/python2.7/site-packages/matplotlib/backends/__init__.pyc\u001b[0m in \u001b[0;36mpylab_setup\u001b[1;34m()\u001b[0m\n\u001b[0;32m     30\u001b[0m     \u001b[1;31m# imports. 0 means only perform absolute imports.\u001b[0m\u001b[1;33m\u001b[0m\u001b[1;33m\u001b[0m\u001b[0m\n\u001b[0;32m     31\u001b[0m     backend_mod = __import__(backend_name,\n\u001b[1;32m---> 32\u001b[1;33m                              globals(),locals(),[backend_name],0)\n\u001b[0m\u001b[0;32m     33\u001b[0m \u001b[1;33m\u001b[0m\u001b[0m\n\u001b[0;32m     34\u001b[0m     \u001b[1;31m# Things we pull in from all backends\u001b[0m\u001b[1;33m\u001b[0m\u001b[1;33m\u001b[0m\u001b[0m\n",
      "\u001b[1;32m/data/rstudio/iberia/anaconda2/lib/python2.7/site-packages/matplotlib/backends/backend_tkagg.py\u001b[0m in \u001b[0;36m<module>\u001b[1;34m()\u001b[0m\n\u001b[0;32m      4\u001b[0m \u001b[1;33m\u001b[0m\u001b[0m\n\u001b[0;32m      5\u001b[0m \u001b[1;32mfrom\u001b[0m \u001b[0mmatplotlib\u001b[0m\u001b[1;33m.\u001b[0m\u001b[0mexternals\u001b[0m \u001b[1;32mimport\u001b[0m \u001b[0msix\u001b[0m\u001b[1;33m\u001b[0m\u001b[0m\n\u001b[1;32m----> 6\u001b[1;33m \u001b[1;32mfrom\u001b[0m \u001b[0mmatplotlib\u001b[0m\u001b[1;33m.\u001b[0m\u001b[0mexternals\u001b[0m\u001b[1;33m.\u001b[0m\u001b[0msix\u001b[0m\u001b[1;33m.\u001b[0m\u001b[0mmoves\u001b[0m \u001b[1;32mimport\u001b[0m \u001b[0mtkinter\u001b[0m \u001b[1;32mas\u001b[0m \u001b[0mTk\u001b[0m\u001b[1;33m\u001b[0m\u001b[0m\n\u001b[0m\u001b[0;32m      7\u001b[0m \u001b[1;32mfrom\u001b[0m \u001b[0mmatplotlib\u001b[0m\u001b[1;33m.\u001b[0m\u001b[0mexternals\u001b[0m\u001b[1;33m.\u001b[0m\u001b[0msix\u001b[0m\u001b[1;33m.\u001b[0m\u001b[0mmoves\u001b[0m \u001b[1;32mimport\u001b[0m \u001b[0mtkinter_filedialog\u001b[0m \u001b[1;32mas\u001b[0m \u001b[0mFileDialog\u001b[0m\u001b[1;33m\u001b[0m\u001b[0m\n\u001b[0;32m      8\u001b[0m \u001b[1;33m\u001b[0m\u001b[0m\n",
      "\u001b[1;32m/data/rstudio/iberia/anaconda2/lib/python2.7/site-packages/matplotlib/externals/six.pyc\u001b[0m in \u001b[0;36mload_module\u001b[1;34m(self, fullname)\u001b[0m\n\u001b[0;32m    197\u001b[0m         \u001b[0mmod\u001b[0m \u001b[1;33m=\u001b[0m \u001b[0mself\u001b[0m\u001b[1;33m.\u001b[0m\u001b[0m__get_module\u001b[0m\u001b[1;33m(\u001b[0m\u001b[0mfullname\u001b[0m\u001b[1;33m)\u001b[0m\u001b[1;33m\u001b[0m\u001b[0m\n\u001b[0;32m    198\u001b[0m         \u001b[1;32mif\u001b[0m \u001b[0misinstance\u001b[0m\u001b[1;33m(\u001b[0m\u001b[0mmod\u001b[0m\u001b[1;33m,\u001b[0m \u001b[0mMovedModule\u001b[0m\u001b[1;33m)\u001b[0m\u001b[1;33m:\u001b[0m\u001b[1;33m\u001b[0m\u001b[0m\n\u001b[1;32m--> 199\u001b[1;33m             \u001b[0mmod\u001b[0m \u001b[1;33m=\u001b[0m \u001b[0mmod\u001b[0m\u001b[1;33m.\u001b[0m\u001b[0m_resolve\u001b[0m\u001b[1;33m(\u001b[0m\u001b[1;33m)\u001b[0m\u001b[1;33m\u001b[0m\u001b[0m\n\u001b[0m\u001b[0;32m    200\u001b[0m         \u001b[1;32melse\u001b[0m\u001b[1;33m:\u001b[0m\u001b[1;33m\u001b[0m\u001b[0m\n\u001b[0;32m    201\u001b[0m             \u001b[0mmod\u001b[0m\u001b[1;33m.\u001b[0m\u001b[0m__loader__\u001b[0m \u001b[1;33m=\u001b[0m \u001b[0mself\u001b[0m\u001b[1;33m\u001b[0m\u001b[0m\n",
      "\u001b[1;32m/data/rstudio/iberia/anaconda2/lib/python2.7/site-packages/matplotlib/externals/six.pyc\u001b[0m in \u001b[0;36m_resolve\u001b[1;34m(self)\u001b[0m\n\u001b[0;32m    111\u001b[0m \u001b[1;33m\u001b[0m\u001b[0m\n\u001b[0;32m    112\u001b[0m     \u001b[1;32mdef\u001b[0m \u001b[0m_resolve\u001b[0m\u001b[1;33m(\u001b[0m\u001b[0mself\u001b[0m\u001b[1;33m)\u001b[0m\u001b[1;33m:\u001b[0m\u001b[1;33m\u001b[0m\u001b[0m\n\u001b[1;32m--> 113\u001b[1;33m         \u001b[1;32mreturn\u001b[0m \u001b[0m_import_module\u001b[0m\u001b[1;33m(\u001b[0m\u001b[0mself\u001b[0m\u001b[1;33m.\u001b[0m\u001b[0mmod\u001b[0m\u001b[1;33m)\u001b[0m\u001b[1;33m\u001b[0m\u001b[0m\n\u001b[0m\u001b[0;32m    114\u001b[0m \u001b[1;33m\u001b[0m\u001b[0m\n\u001b[0;32m    115\u001b[0m     \u001b[1;32mdef\u001b[0m \u001b[0m__getattr__\u001b[0m\u001b[1;33m(\u001b[0m\u001b[0mself\u001b[0m\u001b[1;33m,\u001b[0m \u001b[0mattr\u001b[0m\u001b[1;33m)\u001b[0m\u001b[1;33m:\u001b[0m\u001b[1;33m\u001b[0m\u001b[0m\n",
      "\u001b[1;32m/data/rstudio/iberia/anaconda2/lib/python2.7/site-packages/matplotlib/externals/six.pyc\u001b[0m in \u001b[0;36m_import_module\u001b[1;34m(name)\u001b[0m\n\u001b[0;32m     78\u001b[0m \u001b[1;32mdef\u001b[0m \u001b[0m_import_module\u001b[0m\u001b[1;33m(\u001b[0m\u001b[0mname\u001b[0m\u001b[1;33m)\u001b[0m\u001b[1;33m:\u001b[0m\u001b[1;33m\u001b[0m\u001b[0m\n\u001b[0;32m     79\u001b[0m     \u001b[1;34m\"\"\"Import module, returning the module after the last dot.\"\"\"\u001b[0m\u001b[1;33m\u001b[0m\u001b[0m\n\u001b[1;32m---> 80\u001b[1;33m     \u001b[0m__import__\u001b[0m\u001b[1;33m(\u001b[0m\u001b[0mname\u001b[0m\u001b[1;33m)\u001b[0m\u001b[1;33m\u001b[0m\u001b[0m\n\u001b[0m\u001b[0;32m     81\u001b[0m     \u001b[1;32mreturn\u001b[0m \u001b[0msys\u001b[0m\u001b[1;33m.\u001b[0m\u001b[0mmodules\u001b[0m\u001b[1;33m[\u001b[0m\u001b[0mname\u001b[0m\u001b[1;33m]\u001b[0m\u001b[1;33m\u001b[0m\u001b[0m\n\u001b[0;32m     82\u001b[0m \u001b[1;33m\u001b[0m\u001b[0m\n",
      "\u001b[1;32m/data/rstudio/iberia/anaconda2/lib/python2.7/lib-tk/Tkinter.py\u001b[0m in \u001b[0;36m<module>\u001b[1;34m()\u001b[0m\n\u001b[0;32m     37\u001b[0m     \u001b[1;31m# Attempt to configure Tcl/Tk without requiring PATH\u001b[0m\u001b[1;33m\u001b[0m\u001b[1;33m\u001b[0m\u001b[0m\n\u001b[0;32m     38\u001b[0m     \u001b[1;32mimport\u001b[0m \u001b[0mFixTk\u001b[0m\u001b[1;33m\u001b[0m\u001b[0m\n\u001b[1;32m---> 39\u001b[1;33m \u001b[1;32mimport\u001b[0m \u001b[0m_tkinter\u001b[0m \u001b[1;31m# If this fails your Python may not be configured for Tk\u001b[0m\u001b[1;33m\u001b[0m\u001b[0m\n\u001b[0m\u001b[0;32m     40\u001b[0m \u001b[0mtkinter\u001b[0m \u001b[1;33m=\u001b[0m \u001b[0m_tkinter\u001b[0m \u001b[1;31m# b/w compat for export\u001b[0m\u001b[1;33m\u001b[0m\u001b[0m\n\u001b[0;32m     41\u001b[0m \u001b[0mTclError\u001b[0m \u001b[1;33m=\u001b[0m \u001b[0m_tkinter\u001b[0m\u001b[1;33m.\u001b[0m\u001b[0mTclError\u001b[0m\u001b[1;33m\u001b[0m\u001b[0m\n",
      "\u001b[1;31mImportError\u001b[0m: /usr/lib64/libxcb-xlib.so.0: undefined symbol: _xcb_lock_io"
     ]
    }
   ],
   "source": [
    "import seaborn as sns\n",
    "import matplotlib.pyplot as plt"
   ]
  },
  {
   "cell_type": "code",
   "execution_count": 1,
   "metadata": {
    "collapsed": true
   },
   "outputs": [],
   "source": [
    "import pandas as pd\n",
    "import numpy as np\n",
    "import itertools\n",
    "import random\n",
    "import csv\n",
    "import json\n",
    "import re\n",
    "from sklearn import preprocessing\n",
    "from sklearn.ensemble import RandomForestClassifier\n",
    "from sklearn.feature_selection import SelectFromModel\n",
    "from sklearn.model_selection import cross_val_score,cross_val_predict\n",
    "from sklearn.model_selection import train_test_split\n",
    "from sklearn.model_selection import KFold\n",
    "from sklearn.metrics import r2_score,make_scorer\n",
    "from sklearn.metrics import accuracy_score\n",
    "from collections import Counter\n",
    "from sklearn.metrics import confusion_matrix"
   ]
  },
  {
   "cell_type": "code",
   "execution_count": 2,
   "metadata": {
    "collapsed": true
   },
   "outputs": [],
   "source": [
    "DATA_DIR = '/data/rstudio/iberia/data/'\n",
    "FEATURES = range(55,654) # con ss\n",
    "TARGET_COLS = ['TOTAL']"
   ]
  },
  {
   "cell_type": "code",
   "execution_count": 4,
   "metadata": {
    "collapsed": false
   },
   "outputs": [],
   "source": [
    "#data = pd.read_csv(DATA_DIR + 'feature_matrix_extra_all_w_derivates_weightedaveragefinalSSperstore_def_expanded1.csv',sep='|',index_col=None,encoding='utf-8')\n",
    "data = pd.read_csv(DATA_DIR + 'feature_matrix_extra_all_w_derivates_weightedaveragefinalSSperstore_def_balanced.csv',sep='|',index_col='CLIENT_ID',encoding='utf-8')"
   ]
  },
  {
   "cell_type": "code",
   "execution_count": 5,
   "metadata": {
    "collapsed": false
   },
   "outputs": [],
   "source": [
    "data = data[data.USABLE == True]"
   ]
  },
  {
   "cell_type": "markdown",
   "metadata": {},
   "source": [
    "## Data Preparation"
   ]
  },
  {
   "cell_type": "markdown",
   "metadata": {},
   "source": [
    "Convert all features to float and fill NAs in \\_CLOSEST variables "
   ]
  },
  {
   "cell_type": "code",
   "execution_count": 6,
   "metadata": {
    "collapsed": false
   },
   "outputs": [],
   "source": [
    "X_all = data[FEATURES]\n",
    "\n",
    "closest=list()\n",
    "ind=list()\n",
    "for i in range(X_all.columns.shape[0]):\n",
    "    if re.match('^.*_CLOSEST$',X_all.columns[i]) != None:\n",
    "        closest.append(i) \n",
    "    if re.match('^ind_.*',X_all.columns[i]) != None:\n",
    "        ind.append(i)\n",
    "\n",
    "# Fill NA (should be only in _closest) with the max value of _closest\n",
    "nan_cols_closest = X_all[closest].columns[pd.isnull(X_all[closest]).sum() > 0].tolist()\n",
    "max_mean = X_all[nan_cols_closest].max().mean()\n",
    "X_all.loc[:,nan_cols_closest] = X_all[nan_cols_closest].fillna(X_all[nan_cols_closest].max())\n",
    "X_all = X_all.astype(np.float)\n",
    "\n",
    "# Fill NA (should be only in ind_) with 0\n",
    "nan_cols_ind = X_all[ind].columns[pd.isnull(X_all[ind]).sum() > 0].tolist()\n",
    "X_all.loc[:,nan_cols_ind] = X_all[nan_cols_ind].fillna(0)\n",
    "X_all = X_all.astype(np.float)\n",
    "\n",
    "# Repare boolean variables\n",
    "X_all.loc[:,['IS_KIOSK','COAST','MEGA_CITY']] = X_all[['IS_KIOSK','COAST','MEGA_CITY']].astype('bool')"
   ]
  },
  {
   "cell_type": "markdown",
   "metadata": {},
   "source": [
    "Add TYPE_ESTABLISHMENT_NIELSEN"
   ]
  },
  {
   "cell_type": "code",
   "execution_count": 7,
   "metadata": {
    "collapsed": false
   },
   "outputs": [],
   "source": [
    "le_establ = preprocessing.LabelEncoder()\n",
    "le_establ.fit(data['TYPE_ESTABLISHMENT_NIELSEN'])\n",
    "X_all['TYPE_ESTABLISHMENT_NIELSEN'] = le_establ.transform(data.TYPE_ESTABLISHMENT_NIELSEN)"
   ]
  },
  {
   "cell_type": "code",
   "execution_count": 8,
   "metadata": {
    "collapsed": true
   },
   "outputs": [],
   "source": [
    "X_nielsen = X_all[data.IN_NIELSEN == True]\n",
    "Y_nielsen = data[data.IN_NIELSEN == True][TARGET_COLS]"
   ]
  },
  {
   "cell_type": "markdown",
   "metadata": {},
   "source": [
    "## Models definitions"
   ]
  },
  {
   "cell_type": "code",
   "execution_count": 9,
   "metadata": {
    "collapsed": true
   },
   "outputs": [],
   "source": [
    "rf_class = RandomForestClassifier(n_estimators=100, random_state=123)\n",
    "#rf_class = RandomForestClassifier(n_estimators=100, random_state=123, class_weight='balanced_subsample')\n",
    "#rf_class = RandomForestClassifier(n_estimators=100, random_state=123, class_weight={1: 0.2, 2: 0.5, 3: 1})\n",
    "kf = KFold(n_splits=10)"
   ]
  },
  {
   "cell_type": "markdown",
   "metadata": {},
   "source": [
    "## Functions"
   ]
  },
  {
   "cell_type": "markdown",
   "metadata": {},
   "source": [
    "__Feature Selection__"
   ]
  },
  {
   "cell_type": "code",
   "execution_count": 32,
   "metadata": {
    "collapsed": false
   },
   "outputs": [],
   "source": [
    "def feature_selection(X,Y,target_cols,model):\n",
    "    \n",
    "    features = dict()\n",
    "    features_all = dict()\n",
    "    names = X.columns.tolist()\n",
    "\n",
    "    for col in target_cols:    \n",
    "\n",
    "        y = Y[col]\n",
    "        #y = y[y < y.quantile(.95)]\n",
    "        X_pred = X.loc[y.index,:]\n",
    "        \n",
    "        l = [min(y)-1, 3240.00, 7080.00, max(y)+1]\n",
    "        \n",
    "        y_cat = pd.cut(y,l,labels=range(1,4))\n",
    "\n",
    "        w = pd.cut(y,l,labels=range(1,4))\n",
    "        c = Counter(w)\n",
    "        d = dict()\n",
    "        for i in range(1,4): d[i] = int(round(float(max(c.values())) / float(c[i])))\n",
    "        w = w.map(d)\n",
    "        \n",
    "        #model.fit(X_pred,y_cat,w)\n",
    "        model.fit(X_pred,y_cat)\n",
    "\n",
    "        thres = 2*np.mean(model.feature_importances_)\n",
    "\n",
    "        features_tmp = []\n",
    "        features_tmp_all = sorted(zip(model.feature_importances_, names), reverse=True)\n",
    "        for imp,name in features_tmp_all:\n",
    "            if imp > thres:\n",
    "                features_tmp.append((imp,name))\n",
    "        \n",
    "        features[col] = features_tmp\n",
    "        features_all[col] = features_tmp_all\n",
    "    \n",
    "    return features, features_all"
   ]
  },
  {
   "cell_type": "code",
   "execution_count": 33,
   "metadata": {
    "collapsed": false
   },
   "outputs": [
    {
     "data": {
      "text/plain": [
       "{'TOTAL': [(0.043930957987222102, 'TYPE_ESTABLISHMENT_NIELSEN'),\n",
       "  (0.013326231354996498, u'FOODKIDS_CLOSEST'),\n",
       "  (0.011364852098942084, u'LANGUAGE_SCHOOL_CLOSEST'),\n",
       "  (0.010634796331962529, u'RAIL_STATION_CLOSEST'),\n",
       "  (0.01046794791301096, u'MALE_40_49'),\n",
       "  (0.010349912620139713, u'MALE_0_4'),\n",
       "  (0.010208795033050539, u'FEMALE_0_4'),\n",
       "  (0.010043307749118926, u'MALE_10_14'),\n",
       "  (0.0099948659555141386, u'FEMALE_5_9'),\n",
       "  (0.0099368869157532794, u'LIBRARY_CLOSEST'),\n",
       "  (0.0097330160039882582, u'FEMALE_18_29'),\n",
       "  (0.0097017445763833993, u'FAST_FOOD_CLOSEST'),\n",
       "  (0.009675068363427573, u'FEMALE_40_49'),\n",
       "  (0.0096542931669633021, u'FEMALE_10_14'),\n",
       "  (0.0096483538999767651, u'ZOO_AND_THEME_PARK_CLOSEST'),\n",
       "  (0.0095816498134696296, u'MALE_50_59'),\n",
       "  (0.0095396861249801429, u'SECOND_HOUSES'),\n",
       "  (0.0094937578825293138, u'EMPTY_HOUSES'),\n",
       "  (0.009492523536879436, u'TOTAL_POPULATION'),\n",
       "  (0.0094029904462506787, u'FEMALE_TO_17'),\n",
       "  (0.0094015560909278695, u'MALE_15_17'),\n",
       "  (0.0093973017303365033, u'FEMALE_FROM_70'),\n",
       "  (0.0093611356464242852, u'PARKING_CLOSEST'),\n",
       "  (0.00934561180132913, u'MAIN_HOUSES'),\n",
       "  (0.0092874141406487677, u'SWIMMING_POOL_CLOSEST'),\n",
       "  (0.0092520098128736818, u'MUSIC_SCHOOL_CLOSEST'),\n",
       "  (0.0092324042541252049, u'MUSEUM_AND_GALLERY_CLOSEST'),\n",
       "  (0.0092148096689533797, u'TOURIST_ATTRACTION_CLOSEST'),\n",
       "  (0.0091761837047282298, u'FEMALE_15_17'),\n",
       "  (0.0091747096119418909, u'FEMALE_30_39'),\n",
       "  (0.0091537431165103766, u'TOTAL_HOUSEHOLDS'),\n",
       "  (0.009151586135350713, u'CINEMA_CLOSEST'),\n",
       "  (0.0091497605009669882, u'MALE_FROM_70'),\n",
       "  (0.0091114015695942189, u'PARK_CLOSEST'),\n",
       "  (0.0091051308954797697, u'TOTAL_FEMALE'),\n",
       "  (0.0090707782236925261, u'MALE_18_29'),\n",
       "  (0.0090621228053038901, u'MALE_5_9'),\n",
       "  (0.0090411492746651292, u'MALE_30_39'),\n",
       "  (0.0090396850746141226, u'FOODKIDS_FAR'),\n",
       "  (0.009034337726708537, u'COLLEGE_CLOSEST'),\n",
       "  (0.0090013171661919855, u'DRINKING_WATER_CLOSEST'),\n",
       "  (0.0089914620080171082, u'USERS_NOCHE_MEDIAN'),\n",
       "  (0.0089716570580260693, u'USERS_OVER50_082015'),\n",
       "  (0.0088621690566747652, u'USERS_OVER50_022016'),\n",
       "  (0.0088380947485586382, u'PLAYGROUND_CLOSEST'),\n",
       "  (0.0088378743290485322, u'ACCOMMODATION_CLOSEST'),\n",
       "  (0.008800327035326308, u'SUBWAY_ENTRANCE_CLOSEST'),\n",
       "  (0.0087309162241123381, u'FEMALE_60_69'),\n",
       "  (0.0086933069771683632, u'DRIVING_SCHOOL_CLOSEST'),\n",
       "  (0.0086676911854351082, u'MALE_60_69'),\n",
       "  (0.0086320584129718231, u'PLACE_OF_WORSHIP_CLOSEST'),\n",
       "  (0.0086292091761100385, u'VISITS_OVER50_102015'),\n",
       "  (0.0085971186273658077, u'GOLF_COURSE_CLOSEST'),\n",
       "  (0.008570069673546685, u'TOTAL_MALE'),\n",
       "  (0.0085057143565321902, u'PITCH_CLOSEST'),\n",
       "  (0.0084781476538835897, u'RESTAURANT_CLOSEST'),\n",
       "  (0.0083461092599928545, u'MALE_TO_17'),\n",
       "  (0.0083437785421791658, u'UNIVERSITY_CLOSEST'),\n",
       "  (0.0082544798277587195, u'THEATRE_CLOSEST'),\n",
       "  (0.0082456272216106762, u'VISITS_NOCHE_082015'),\n",
       "  (0.0082251871027152531, u'BENCH_CLOSEST'),\n",
       "  (0.0081749881165190837, u'BUS_STATION_CLOSEST'),\n",
       "  (0.008149621020126438, u'TOURIST_INFORMATION_CLOSEST'),\n",
       "  (0.0081231959271702188, u'BUS_STOP_CLOSEST'),\n",
       "  (0.008118595125310735, u'SPORTS_CENTRE_CLOSEST'),\n",
       "  (0.0080908035496497204, u'FEMALE_50_59'),\n",
       "  (0.0080092529711189506, u'VISITS_OVER50_022016'),\n",
       "  (0.0080092422905858034, u'USERS_NOCHE_102015'),\n",
       "  (0.0079537284191251757, u'USERS_NOCHE_022016'),\n",
       "  (0.0079081071890830211, u'VISITS_NOCHE_SUM'),\n",
       "  (0.0078881712528524883, u'BAR_CLOSEST'),\n",
       "  (0.0078872163248625213, u'CAFE_CLOSEST'),\n",
       "  (0.007859618485335243, u'USERS_OVER50_062015'),\n",
       "  (0.0078484928804168977, u'VISITS_OVER50_MEDIAN'),\n",
       "  (0.00784092627887557, u'TAXI_CLOSEST'),\n",
       "  (0.0078208972011163704, u'VISITS_OVER50_MEAN'),\n",
       "  (0.0078162380110166334, u'VISITS_NOCHE_MEDIAN'),\n",
       "  (0.0077338619499104297, u'USERS_NOCHE_062015'),\n",
       "  (0.0077240080877538746, u'USERS_OVER50_MEDIAN'),\n",
       "  (0.0077135806438270449, u'VISITS_NOCHE_022016'),\n",
       "  (0.0076892536716725544, u'VISITS_OVER50_062015'),\n",
       "  (0.0076572684471221094, u'USERS_OVER50_MEAN'),\n",
       "  (0.0076362339663938071, u'USERS_NOCHE_082015'),\n",
       "  (0.0076297713502696506, u'USERS_NOCHE_MEAN'),\n",
       "  (0.0075115886021362632, u'SCHOOL_CLOSEST'),\n",
       "  (0.0074284089171474154, u'USERS_OVER50_102015'),\n",
       "  (0.0073359061720508776, u'VISITS_NOCHE_102015'),\n",
       "  (0.0071209597885634633, u'VISITS_OVER50_082015'),\n",
       "  (0.007085511121519731, u'VISITS_NOCHE_MEAN'),\n",
       "  (0.0070173341444117066, u'USERS_OVER50_SUM'),\n",
       "  (0.0070000825819910703, u'VISITS_OVER50_SUM'),\n",
       "  (0.0069370863536186876, u'USERS_NOCHE_SUM'),\n",
       "  (0.00690166393121473, u'VISITS_NOCHE_062015'),\n",
       "  (0.0062544599798953346, u'FOODKIDS_CLOSE'),\n",
       "  (0.0056368117117122293, u'IS_KIOSK'),\n",
       "  (0.0053416299522817904, u'BUS_STOP_FAR'),\n",
       "  (0.0050065844973588335, u'BEACH_CLOSEST'),\n",
       "  (0.003820594633284703, u'SCHOOL_FAR'),\n",
       "  (0.0037467999505337098, u'RESTAURANT_FAR')]}"
      ]
     },
     "execution_count": 33,
     "metadata": {},
     "output_type": "execute_result"
    }
   ],
   "source": [
    "features_rel, features_rel_all = feature_selection(X_nielsen,Y_nielsen,TARGET_COLS,rf_class)\n",
    "features_rel"
   ]
  },
  {
   "cell_type": "code",
   "execution_count": 44,
   "metadata": {
    "collapsed": true
   },
   "outputs": [],
   "source": [
    "with open(DATA_DIR + 'features_importance_POS_category_classification_all_weight.json', 'w') as fp:\n",
    "    json.dump(features_rel_all, fp)"
   ]
  },
  {
   "cell_type": "markdown",
   "metadata": {},
   "source": [
    "__Classification__"
   ]
  },
  {
   "cell_type": "code",
   "execution_count": 34,
   "metadata": {
    "collapsed": true
   },
   "outputs": [],
   "source": [
    "def category_classification_score(X,Y,target_cols,model,features=False,cv=kf):\n",
    "    \n",
    "    scores = dict()\n",
    "\n",
    "    for col in target_cols:\n",
    "        print col\n",
    "\n",
    "        y = Y[col]\n",
    "        #y = y[y < y.quantile(.95)]\n",
    "        X_pred = X.loc[y.index,:]\n",
    "\n",
    "        l = [min(y)-1, 3240.00, 7080.00, max(y)+1]\n",
    "\n",
    "        y_cat = pd.cut(y,l,labels=range(1,4))\n",
    "\n",
    "        w = pd.cut(y,l,labels=range(1,4))\n",
    "        c = Counter(w)\n",
    "        d = dict()\n",
    "        for i in range(1,4): d[i] = int(round(float(max(c.values())) / float(c[i])))\n",
    "        w = w.map(d)\n",
    "\n",
    "        if features != False:\n",
    "            feat = [f[1] for f in features[col]]\n",
    "            X_pred = X_pred[feat]    \n",
    "\n",
    "        #scores[col] = cross_val_score(model, X_pred, y_cat, cv=cv, fit_params={'sample_weight': w})\n",
    "        scores[col] = cross_val_score(model, X_pred, y_cat, cv=cv)\n",
    "        \n",
    "        print scores[col]\n",
    "        print np.mean(scores[col])\n",
    "    \n",
    "    return scores"
   ]
  },
  {
   "cell_type": "code",
   "execution_count": 35,
   "metadata": {
    "collapsed": false
   },
   "outputs": [
    {
     "name": "stdout",
     "output_type": "stream",
     "text": [
      "TOTAL\n",
      "[ 0.48120301  0.40977444  0.45864662  0.46240602  0.18796992  0.18421053\n",
      "  0.36842105  0.30827068  0.30943396  0.26792453]\n",
      "0.343826074621\n"
     ]
    }
   ],
   "source": [
    "class_scores = category_classification_score(X_nielsen,Y_nielsen,TARGET_COLS,rf_class,cv=kf)"
   ]
  },
  {
   "cell_type": "markdown",
   "metadata": {},
   "source": [
    "__Predicciones__"
   ]
  },
  {
   "cell_type": "code",
   "execution_count": 162,
   "metadata": {
    "collapsed": true
   },
   "outputs": [],
   "source": [
    "def category_classification_prediction(X_train,Y_train,X_test,Y_test,target_cols,model,features=False):\n",
    "    \n",
    "    targets = dict()\n",
    "    preds = dict()\n",
    "    \n",
    "    for col in target_cols:\n",
    "        \n",
    "        print col\n",
    "        \n",
    "        y = Y_train[col]\n",
    "        #y = y[y < y.quantile(.95)]\n",
    "        X_pred = X_train.loc[y.index,:]\n",
    "              \n",
    "        l = [min(y)-1, 3240.00, 7080.00, max(y)+1]\n",
    "\n",
    "        y_cat = pd.cut(y,l,labels=range(1,4))\n",
    "\n",
    "        w = pd.cut(y,l,labels=range(1,4))\n",
    "        c = Counter(w)\n",
    "        d = dict()\n",
    "        for i in range(1,4): d[i] = int(round(float(max(c.values())) / float(c[i])))\n",
    "        w = w.map(d)\n",
    "\n",
    "        X_test_aux = X_test\n",
    "\n",
    "        if features != False:\n",
    "            feat = [f[1] for f in features[col]]\n",
    "            X_pred = X_pred[feat]\n",
    "            X_test_aux = X_test[feat]\n",
    "            \n",
    "        #model.fit(X_pred,y_cat,w)\n",
    "        model.fit(X_pred,y_cat)\n",
    "        \n",
    "        targets[col] = Y_test[col]\n",
    "        preds[col] = model.predict(X_test_aux)\n",
    "    \n",
    "    return targets,preds"
   ]
  },
  {
   "cell_type": "code",
   "execution_count": 163,
   "metadata": {
    "collapsed": false
   },
   "outputs": [],
   "source": [
    "data_topredict = pd.read_csv(DATA_DIR + 'feature_matrix_extra_all_w_derivates_weightedaveragefinalSSperstore_def.csv',sep='|',index_col='CLIENT_ID',encoding='utf-8')\n",
    "\n",
    "data_topredict = data_topredict[data_topredict.USABLE == True]\n",
    "\n",
    "X_topredict = data_topredict[FEATURES]\n",
    "Y_topredict = data_topredict[TARGET_COLS]\n",
    "\n",
    "closest=list()\n",
    "ind=list()\n",
    "for i in range(X_topredict.columns.shape[0]):\n",
    "    if re.match('^.*_CLOSEST$',X_topredict.columns[i]) != None:\n",
    "        closest.append(i) \n",
    "    if re.match('^ind_.*',X_topredict.columns[i]) != None:\n",
    "        ind.append(i)\n",
    "\n",
    "# Fill NA (should be only in _closest) with the mean max value of _closest\n",
    "nan_cols_closest = X_topredict[closest].columns[pd.isnull(X_topredict[closest]).sum() > 0].tolist()\n",
    "max_mean = X_topredict[nan_cols_closest].max().mean()\n",
    "X_topredict.loc[:,nan_cols_closest] = X_topredict[nan_cols_closest].fillna(X_topredict[nan_cols_closest].max())\n",
    "X_topredict = X_topredict.astype(np.float)\n",
    "\n",
    "# Fill NA (should be only in ind_) with 0\n",
    "nan_cols_ind = X_topredict[ind].columns[pd.isnull(X_topredict[ind]).sum() > 0].tolist()\n",
    "X_topredict.loc[:,nan_cols_ind] = X_topredict[nan_cols_ind].fillna(0)\n",
    "X_topredict = X_topredict.astype(np.float)\n",
    "\n",
    "# Repare boolean variables\n",
    "X_topredict.loc[:,['IS_KIOSK','COAST','MEGA_CITY']] = X_topredict[['IS_KIOSK','COAST','MEGA_CITY']].astype('bool')\n",
    "\n",
    "# Add TYPE ESTABLISHMENT\n",
    "le_establ = preprocessing.LabelEncoder()\n",
    "le_establ.fit(data_topredict['TYPE_ESTABLISHMENT_NIELSEN'])\n",
    "X_topredict['TYPE_ESTABLISHMENT_NIELSEN'] = le_establ.transform(data_topredict.TYPE_ESTABLISHMENT_NIELSEN)"
   ]
  },
  {
   "cell_type": "code",
   "execution_count": null,
   "metadata": {
    "collapsed": true
   },
   "outputs": [],
   "source": [
    "targets,preds = category_classification_prediction(X_nielsen,Y_nielsen,X_topredict,Y_topredict,TARGET_COLS,rf_class)\n",
    "Y_pred = pd.DataFrame(preds)\n",
    "Y_pred.index = X_topredict.index\n",
    "Y_pred.columns = [x + '_pred' for x in Y_pred.columns.tolist()]\n",
    "Y_pred.join(Y_topredict).to_csv(DATA_DIR + 'POS_category_classification_prediction_all_weight.csv',sep=';',encoding='utf-8')"
   ]
  },
  {
   "cell_type": "code",
   "execution_count": 77,
   "metadata": {
    "collapsed": true
   },
   "outputs": [],
   "source": [
    "for col in TARGET_COLS:\n",
    "    data_topredict.loc[targets[col].index,col + '_pred'] = preds[col]"
   ]
  },
  {
   "cell_type": "code",
   "execution_count": 78,
   "metadata": {
    "collapsed": true
   },
   "outputs": [
    {
     "name": "stdout",
     "output_type": "stream",
     "text": [
      "TOTAL_CHIPS_LESS_50\n",
      "0.107432147647\n",
      "TOTAL_CHIPS_MORE_50\n",
      "0.30273039743\n",
      "TOTAL_SNACKS_LESS_50\n",
      "0.257690411939\n",
      "TOTAL_SNACKS_MORE_50\n",
      "0.214973831111\n"
     ]
    }
   ],
   "source": [
    "for col in TARGET_COLS:\n",
    "    print col\n",
    "    results = data_topredict[data_topredict[col].notnull()][[col,col + '_pred']]\n",
    "    print r2_score(results[col],results[col + '_pred'])\n",
    "    results = results.sort_values(col)"
   ]
  },
  {
   "cell_type": "code",
   "execution_count": 10,
   "metadata": {
    "collapsed": true
   },
   "outputs": [],
   "source": [
    "def classification_cross_val_predict(X,Y,target_cols,model,features=False,cv=kf):\n",
    "    \n",
    "    targets = dict()\n",
    "    preds = dict()\n",
    "    \n",
    "    for col in target_cols:\n",
    "        \n",
    "        print col\n",
    "\n",
    "        y = Y[col]\n",
    "        #y = y[y < y.quantile(.95)]\n",
    "        X_pred = X.loc[y.index,:]\n",
    "        \n",
    "        l = [min(y)-1, 3240.00, 7080.00, max(y)+1]\n",
    "\n",
    "        y_cat = pd.cut(y,l,labels=range(1,4))\n",
    "\n",
    "        w = pd.cut(y,l,labels=range(1,4))\n",
    "        c = Counter(w)\n",
    "        d = dict()\n",
    "        for i in range(1,4): d[i] = int(round(float(max(c.values())) / float(c[i])))\n",
    "        w = w.map(d)\n",
    "\n",
    "        if features != False:\n",
    "            feat = [f[1] for f in features[col]]\n",
    "            X_pred = X_pred[feat]\n",
    "                \n",
    "        targets[col] = y_cat\n",
    "        #preds[col] = cross_val_predict(model, X_pred, y_cat, cv=cv, fit_params={'sample_weight': w})\n",
    "        preds[col] = cross_val_predict(model, X_pred, y_cat, cv=cv)\n",
    "\n",
    "    return targets,preds"
   ]
  },
  {
   "cell_type": "code",
   "execution_count": 11,
   "metadata": {
    "collapsed": false
   },
   "outputs": [
    {
     "name": "stdout",
     "output_type": "stream",
     "text": [
      "TOTAL\n"
     ]
    }
   ],
   "source": [
    "targets,preds = classification_cross_val_predict(X_nielsen,Y_nielsen,TARGET_COLS,rf_class,cv=kf)\n",
    "Y_pred = pd.DataFrame(preds)\n",
    "Y_pred.index = X_nielsen.index\n",
    "Y_pred.columns = [x + '_pred' for x in Y_pred.columns.tolist()]\n",
    "Y_pred.join(Y_nielsen).to_csv(DATA_DIR + 'POS_category_classification_prediction_all_weight_w_cross_valid.csv',sep=';',encoding='utf-8')"
   ]
  },
  {
   "cell_type": "code",
   "execution_count": 12,
   "metadata": {
    "collapsed": false
   },
   "outputs": [
    {
     "data": {
      "text/plain": [
       "array([[398, 299, 189],\n",
       "       [298, 186, 402],\n",
       "       [184, 422, 280]])"
      ]
     },
     "execution_count": 12,
     "metadata": {},
     "output_type": "execute_result"
    }
   ],
   "source": [
    "Y_target = pd.DataFrame(targets)\n",
    "cnf_matrix = confusion_matrix(Y_target['TOTAL'], Y_pred['TOTAL_pred'])\n",
    "cnf_matrix"
   ]
  },
  {
   "cell_type": "code",
   "execution_count": null,
   "metadata": {
    "collapsed": true
   },
   "outputs": [],
   "source": []
  }
 ],
 "metadata": {
  "anaconda-cloud": {},
  "kernelspec": {
   "display_name": "Python [Root]",
   "language": "python",
   "name": "Python [Root]"
  },
  "language_info": {
   "codemirror_mode": {
    "name": "ipython",
    "version": 2
   },
   "file_extension": ".py",
   "mimetype": "text/x-python",
   "name": "python",
   "nbconvert_exporter": "python",
   "pygments_lexer": "ipython2",
   "version": "2.7.12"
  }
 },
 "nbformat": 4,
 "nbformat_minor": 0
}
